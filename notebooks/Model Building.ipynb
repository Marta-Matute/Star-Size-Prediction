{
 "cells": [
  {
   "cell_type": "markdown",
   "id": "eee298b3",
   "metadata": {},
   "source": [
    "# 2. Model Building"
   ]
  },
  {
   "cell_type": "markdown",
   "id": "9559f47a",
   "metadata": {},
   "source": [
    "We have a dataset ready to be worked with. Using the pickle we created, we will now try with several different predicting models to see which ones gives us the best results."
   ]
  },
  {
   "cell_type": "code",
   "execution_count": 63,
   "id": "c8548528",
   "metadata": {},
   "outputs": [],
   "source": [
    "import pandas as pd\n",
    "import missingno as msno\n",
    "import seaborn as sns\n",
    "import matplotlib.pyplot as plt\n",
    "from plotly.subplots import make_subplots\n",
    "import re\n",
    "import math\n",
    "import os\n",
    "import pickle\n",
    "import pprint\n",
    "from IPython.display import display, Markdown, Latex\n",
    "from sklearn.model_selection import train_test_split\n",
    "from tqdm import tqdm\n",
    "from sklearn.model_selection import *\n",
    "import warnings\n",
    "from sklearn import preprocessing\n",
    "from sklearn import utils\n",
    "\n",
    "\n",
    "#models\n",
    "from sklearn.linear_model import LogisticRegression\n",
    "from sklearn.tree import DecisionTreeClassifier\n",
    "from sklearn.neighbors import KNeighborsClassifier\n",
    "\n",
    "# ensemble models\n",
    "import xgboost as xgb\n",
    "from xgboost import XGBClassifier\n",
    "from sklearn.ensemble import RandomForestClassifier"
   ]
  },
  {
   "cell_type": "code",
   "execution_count": 107,
   "id": "9d4930cb",
   "metadata": {},
   "outputs": [],
   "source": [
    "with open('data/train_test.pickle', 'rb') as file:\n",
    "    dataset_list = pickle.load(file)\n",
    "    \n",
    "X_train = dataset_list[0]\n",
    "X_test = dataset_list[1]\n",
    "y_train = dataset_list[2]\n",
    "y_test = dataset_list[3]"
   ]
  },
  {
   "cell_type": "markdown",
   "id": "a22b5bdc",
   "metadata": {},
   "source": [
    "The models we will be trying are:\n",
    "- Logistic Regression\n",
    "- K-Neighbors Classifier\n",
    "- Decision Tree Classifier\n",
    "- XGBoost\n",
    "- Random Forest Classifier"
   ]
  },
  {
   "cell_type": "code",
   "execution_count": 106,
   "id": "b2a15edb",
   "metadata": {
    "scrolled": false
   },
   "outputs": [
    {
     "name": "stderr",
     "output_type": "stream",
     "text": [
      "100%|████████████████████████████████████████████████████████████████████████████████████| 5/5 [00:57<00:00, 11.60s/it]\n"
     ]
    },
    {
     "data": {
      "text/html": [
       "<div>\n",
       "<style scoped>\n",
       "    .dataframe tbody tr th:only-of-type {\n",
       "        vertical-align: middle;\n",
       "    }\n",
       "\n",
       "    .dataframe tbody tr th {\n",
       "        vertical-align: top;\n",
       "    }\n",
       "\n",
       "    .dataframe thead th {\n",
       "        text-align: right;\n",
       "    }\n",
       "</style>\n",
       "<table border=\"1\" class=\"dataframe\">\n",
       "  <thead>\n",
       "    <tr style=\"text-align: right;\">\n",
       "      <th></th>\n",
       "      <th>Model</th>\n",
       "      <th>Mean</th>\n",
       "      <th>Std</th>\n",
       "    </tr>\n",
       "  </thead>\n",
       "  <tbody>\n",
       "    <tr>\n",
       "      <th>0</th>\n",
       "      <td>Logistic Regression</td>\n",
       "      <td>0.951391</td>\n",
       "      <td>0.003934</td>\n",
       "    </tr>\n",
       "    <tr>\n",
       "      <th>1</th>\n",
       "      <td>K-Neighbors Classifier</td>\n",
       "      <td>0.941496</td>\n",
       "      <td>0.004220</td>\n",
       "    </tr>\n",
       "    <tr>\n",
       "      <th>2</th>\n",
       "      <td>Decision Tree Classifier</td>\n",
       "      <td>0.864777</td>\n",
       "      <td>0.006017</td>\n",
       "    </tr>\n",
       "    <tr>\n",
       "      <th>3</th>\n",
       "      <td>XGBoost</td>\n",
       "      <td>0.959365</td>\n",
       "      <td>0.003124</td>\n",
       "    </tr>\n",
       "    <tr>\n",
       "      <th>4</th>\n",
       "      <td>Random Forest</td>\n",
       "      <td>0.956486</td>\n",
       "      <td>0.003671</td>\n",
       "    </tr>\n",
       "  </tbody>\n",
       "</table>\n",
       "</div>"
      ],
      "text/plain": [
       "                      Model      Mean       Std\n",
       "0       Logistic Regression  0.951391  0.003934\n",
       "1    K-Neighbors Classifier  0.941496  0.004220\n",
       "2  Decision Tree Classifier  0.864777  0.006017\n",
       "3                   XGBoost  0.959365  0.003124\n",
       "4             Random Forest  0.956486  0.003671"
      ]
     },
     "execution_count": 106,
     "metadata": {},
     "output_type": "execute_result"
    }
   ],
   "source": [
    "num_folds = 10\n",
    "seed = 1\n",
    "scoring = 'roc_auc'\n",
    "models = []\n",
    "# basic models\n",
    "models.append(('Logistic Regression', LogisticRegression()))\n",
    "models.append(('K-Neighbors Classifier', KNeighborsClassifier()))\n",
    "models.append(('Decision Tree Classifier', DecisionTreeClassifier()))\n",
    "\n",
    "# ensemble models\n",
    "models.append(('XGBoost', XGBClassifier(eval_metric='mlogloss')))\n",
    "models.append(('Random Forest', RandomForestClassifier()))\n",
    "\n",
    "# KFolds for model selection:\n",
    "table_results = []\n",
    "with warnings.catch_warnings():\n",
    "    warnings.filterwarnings(\"ignore\")\n",
    "    for name, model in tqdm(models):\n",
    "        kfold = KFold(n_splits=num_folds, random_state=seed, shuffle=True)\n",
    "        cv_results = cross_val_score(model, X_train, y_train, cv=kfold, scoring=scoring)\n",
    "        table_results.append([name,cv_results.mean(),cv_results.std()])\n",
    "\n",
    "pd.DataFrame(table_results, columns=['Model', 'Mean', 'Std'])"
   ]
  },
  {
   "cell_type": "markdown",
   "id": "910c760a",
   "metadata": {},
   "source": [
    "We see that we get really good results for most of the models, except for the decision tree classifier, that only gives around 86% accuracy (the next best one is already at 94% accuracy). For this reason we will not be further using the Decision Tree Classifier."
   ]
  },
  {
   "cell_type": "code",
   "execution_count": 108,
   "id": "2a2b850c",
   "metadata": {},
   "outputs": [
    {
     "ename": "SyntaxError",
     "evalue": "invalid syntax (<ipython-input-108-0dcc0c0eb351>, line 1)",
     "output_type": "error",
     "traceback": [
      "\u001b[1;36m  File \u001b[1;32m\"<ipython-input-108-0dcc0c0eb351>\"\u001b[1;36m, line \u001b[1;32m1\u001b[0m\n\u001b[1;33m    - Feature importance\u001b[0m\n\u001b[1;37m              ^\u001b[0m\n\u001b[1;31mSyntaxError\u001b[0m\u001b[1;31m:\u001b[0m invalid syntax\n"
     ]
    }
   ],
   "source": [
    "- Feature importance \n",
    "- K best features"
   ]
  },
  {
   "cell_type": "code",
   "execution_count": 109,
   "id": "3d6db567",
   "metadata": {},
   "outputs": [
    {
     "data": {
      "text/plain": [
       "[['Logistic Regression', 0.9513914698762322, 0.003934021878711469],\n",
       " ['K-Neighbors Classifier', 0.941495727288556, 0.0042195239071342976],\n",
       " ['Decision Tree Classifier', 0.864777195526312, 0.006017226894459743],\n",
       " ['XGBoost', 0.9593654013971765, 0.00312391116321101],\n",
       " ['Random Forest', 0.956486081313707, 0.00367120916573642]]"
      ]
     },
     "execution_count": 109,
     "metadata": {},
     "output_type": "execute_result"
    }
   ],
   "source": [
    "table_results"
   ]
  },
  {
   "cell_type": "code",
   "execution_count": 111,
   "id": "a0511d77",
   "metadata": {},
   "outputs": [
    {
     "name": "stdout",
     "output_type": "stream",
     "text": [
      "| Model                    |     Mean |        Std |\n",
      "|--------------------------+----------+------------|\n",
      "| Logistic Regression      | 0.951391 | 0.00393402 |\n",
      "| K-Neighbors Classifier   | 0.941496 | 0.00421952 |\n",
      "| Decision Tree Classifier | 0.864777 | 0.00601723 |\n",
      "| XGBoost                  | 0.959365 | 0.00312391 |\n",
      "| Random Forest            | 0.956486 | 0.00367121 |\n"
     ]
    }
   ],
   "source": [
    "from tabulate import tabulate\n",
    "print(tabulate(table_results, headers=['Model', 'Mean', 'Std'], tablefmt='orgtbl'))"
   ]
  },
  {
   "cell_type": "markdown",
   "id": "3a12056d",
   "metadata": {},
   "source": [
    "| Model                    |     Mean |        Std |\n",
    "|--------------------------|----------|------------|\n",
    "| Logistic Regression      | 0.951391 | 0.00393402 |\n",
    "| K-Neighbors Classifier   | 0.941496 | 0.00421952 |\n",
    "| Decision Tree Classifier | 0.864777 | 0.00601723 |\n",
    "| XGBoost                  | 0.959365 | 0.00312391 |\n",
    "| Random Forest            | 0.956486 | 0.00367121 |"
   ]
  },
  {
   "cell_type": "code",
   "execution_count": null,
   "id": "b269fbb9",
   "metadata": {},
   "outputs": [],
   "source": []
  }
 ],
 "metadata": {
  "kernelspec": {
   "display_name": "Python 3",
   "language": "python",
   "name": "python3"
  },
  "language_info": {
   "codemirror_mode": {
    "name": "ipython",
    "version": 3
   },
   "file_extension": ".py",
   "mimetype": "text/x-python",
   "name": "python",
   "nbconvert_exporter": "python",
   "pygments_lexer": "ipython3",
   "version": "3.8.8"
  }
 },
 "nbformat": 4,
 "nbformat_minor": 5
}
