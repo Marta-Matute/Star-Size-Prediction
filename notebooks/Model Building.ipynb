{
 "cells": [
  {
   "cell_type": "markdown",
   "id": "eee298b3",
   "metadata": {},
   "source": [
    "# 2. Model Building"
   ]
  },
  {
   "cell_type": "markdown",
   "id": "9559f47a",
   "metadata": {},
   "source": [
    "We have a dataset ready to be worked with. Using the pickle we created, we will now try with several different predicting models to see which ones gives us the best results."
   ]
  },
  {
   "cell_type": "code",
   "execution_count": 63,
   "id": "c8548528",
   "metadata": {},
   "outputs": [],
   "source": [
    "import pandas as pd\n",
    "import missingno as msno\n",
    "import seaborn as sns\n",
    "import matplotlib.pyplot as plt\n",
    "from plotly.subplots import make_subplots\n",
    "import re\n",
    "import math\n",
    "import os\n",
    "import pickle\n",
    "import pprint\n",
    "from IPython.display import display, Markdown, Latex\n",
    "from sklearn.model_selection import train_test_split\n",
    "from tqdm import tqdm\n",
    "from sklearn.model_selection import *\n",
    "import warnings\n",
    "from sklearn import preprocessing\n",
    "from sklearn import utils\n",
    "\n",
    "\n",
    "#models\n",
    "from sklearn.linear_model import LogisticRegression\n",
    "from sklearn.tree import DecisionTreeClassifier\n",
    "from sklearn.neighbors import KNeighborsClassifier\n",
    "\n",
    "# ensemble models\n",
    "import xgboost as xgb\n",
    "from xgboost import XGBClassifier\n",
    "from sklearn.ensemble import RandomForestClassifier"
   ]
  },
  {
   "cell_type": "code",
   "execution_count": 107,
   "id": "9d4930cb",
   "metadata": {},
   "outputs": [],
   "source": [
    "with open('data/train_test.pickle', 'rb') as file:\n",
    "    dataset_list = pickle.load(file)\n",
    "    \n",
    "X_train = dataset_list[0]\n",
    "X_test = dataset_list[1]\n",
    "y_train = dataset_list[2]\n",
    "y_test = dataset_list[3]"
   ]
  },
  {
   "cell_type": "markdown",
   "id": "a22b5bdc",
   "metadata": {},
   "source": [
    "The models we will be trying are:\n",
    "- Logistic Regression\n",
    "- K-Neighbors Classifier\n",
    "- Decision Tree Classifier\n",
    "- XGBoost\n",
    "- Random Forest Classifier"
   ]
  },
  {
   "cell_type": "code",
   "execution_count": 141,
   "id": "b2a15edb",
   "metadata": {
    "scrolled": false
   },
   "outputs": [
    {
     "name": "stderr",
     "output_type": "stream",
     "text": [
      "100%|████████████████████████████████████████████████████████████████████████████████████| 5/5 [00:54<00:00, 10.94s/it]\n"
     ]
    },
    {
     "data": {
      "text/html": [
       "<div>\n",
       "<style scoped>\n",
       "    .dataframe tbody tr th:only-of-type {\n",
       "        vertical-align: middle;\n",
       "    }\n",
       "\n",
       "    .dataframe tbody tr th {\n",
       "        vertical-align: top;\n",
       "    }\n",
       "\n",
       "    .dataframe thead th {\n",
       "        text-align: right;\n",
       "    }\n",
       "</style>\n",
       "<table border=\"1\" class=\"dataframe\">\n",
       "  <thead>\n",
       "    <tr style=\"text-align: right;\">\n",
       "      <th></th>\n",
       "      <th>Model</th>\n",
       "      <th>Mean</th>\n",
       "      <th>Std</th>\n",
       "    </tr>\n",
       "  </thead>\n",
       "  <tbody>\n",
       "    <tr>\n",
       "      <th>3</th>\n",
       "      <td>XGBoost</td>\n",
       "      <td>0.959365</td>\n",
       "      <td>0.003124</td>\n",
       "    </tr>\n",
       "    <tr>\n",
       "      <th>4</th>\n",
       "      <td>Random Forest</td>\n",
       "      <td>0.956558</td>\n",
       "      <td>0.003383</td>\n",
       "    </tr>\n",
       "    <tr>\n",
       "      <th>0</th>\n",
       "      <td>Logistic Regression</td>\n",
       "      <td>0.951391</td>\n",
       "      <td>0.003934</td>\n",
       "    </tr>\n",
       "    <tr>\n",
       "      <th>1</th>\n",
       "      <td>K-Neighbors Classifier</td>\n",
       "      <td>0.941496</td>\n",
       "      <td>0.004220</td>\n",
       "    </tr>\n",
       "    <tr>\n",
       "      <th>2</th>\n",
       "      <td>Decision Tree Classifier</td>\n",
       "      <td>0.864607</td>\n",
       "      <td>0.005373</td>\n",
       "    </tr>\n",
       "  </tbody>\n",
       "</table>\n",
       "</div>"
      ],
      "text/plain": [
       "                      Model      Mean       Std\n",
       "3                   XGBoost  0.959365  0.003124\n",
       "4             Random Forest  0.956558  0.003383\n",
       "0       Logistic Regression  0.951391  0.003934\n",
       "1    K-Neighbors Classifier  0.941496  0.004220\n",
       "2  Decision Tree Classifier  0.864607  0.005373"
      ]
     },
     "execution_count": 141,
     "metadata": {},
     "output_type": "execute_result"
    }
   ],
   "source": [
    "num_folds = 10\n",
    "seed = 1\n",
    "scoring = 'roc_auc'\n",
    "models = []\n",
    "# basic models\n",
    "models.append(('Logistic Regression', LogisticRegression()))\n",
    "models.append(('K-Neighbors Classifier', KNeighborsClassifier()))\n",
    "models.append(('Decision Tree Classifier', DecisionTreeClassifier()))\n",
    "\n",
    "# ensemble models\n",
    "models.append(('XGBoost', XGBClassifier(use_label_encoder=False,eval_metric='mlogloss')))\n",
    "models.append(('Random Forest', RandomForestClassifier()))\n",
    "\n",
    "# KFolds for model selection:\n",
    "table_results = []\n",
    "with warnings.catch_warnings():\n",
    "    warnings.filterwarnings(\"ignore\")\n",
    "    for name, model in tqdm(models):\n",
    "        kfold = KFold(n_splits=num_folds, random_state=seed, shuffle=True)\n",
    "        cv_results = cross_val_score(model, X_train, y_train, cv=kfold, scoring=scoring)\n",
    "        table_results.append([name,cv_results.mean(),cv_results.std()])\n",
    "\n",
    "pd.DataFrame(table_results, columns=['Model', 'Mean', 'Std']).sort_values(by = ['Mean'], ascending=False)"
   ]
  },
  {
   "cell_type": "markdown",
   "id": "910c760a",
   "metadata": {},
   "source": [
    "We see that we get really good results for most of the models, except for the decision tree classifier, that only gives around 86% accuracy (the next best one is already at 94% accuracy). For this reason we will not be further using the Decision Tree Classifier."
   ]
  },
  {
   "cell_type": "code",
   "execution_count": 144,
   "id": "268d8f81",
   "metadata": {},
   "outputs": [
    {
     "data": {
      "text/plain": [
       "[('Logistic Regression', LogisticRegression()),\n",
       " ('K-Neighbors Classifier', KNeighborsClassifier()),\n",
       " ('XGBoost',\n",
       "  XGBClassifier(base_score=None, booster=None, colsample_bylevel=None,\n",
       "                colsample_bynode=None, colsample_bytree=None,\n",
       "                enable_categorical=False, eval_metric='mlogloss', gamma=None,\n",
       "                gpu_id=None, importance_type=None, interaction_constraints=None,\n",
       "                learning_rate=None, max_delta_step=None, max_depth=None,\n",
       "                min_child_weight=None, missing=nan, monotone_constraints=None,\n",
       "                n_estimators=100, n_jobs=None, num_parallel_tree=None,\n",
       "                predictor=None, random_state=None, reg_alpha=None,\n",
       "                reg_lambda=None, scale_pos_weight=None, subsample=None,\n",
       "                tree_method=None, use_label_encoder=False,\n",
       "                validate_parameters=None, verbosity=None)),\n",
       " ('Random Forest', RandomForestClassifier())]"
      ]
     },
     "execution_count": 144,
     "metadata": {},
     "output_type": "execute_result"
    }
   ],
   "source": [
    "#removing the Decision tree classifier from our list of models\n",
    "if(models[2][0] == 'Decision Tree Classifier'):\n",
    "    del(models[2])"
   ]
  },
  {
   "cell_type": "markdown",
   "id": "fd923657",
   "metadata": {},
   "source": [
    "### Feature importance for the best models"
   ]
  },
  {
   "cell_type": "markdown",
   "id": "52095eb1",
   "metadata": {},
   "source": [
    "#### Feature importance for XGBoost Classifier"
   ]
  },
  {
   "cell_type": "code",
   "execution_count": 148,
   "id": "47b176ad",
   "metadata": {},
   "outputs": [
    {
     "data": {
      "image/png": "[encoded data removed]",
      "text/plain": [
       "<Figure size 432x288 with 1 Axes>"
      ]
     },
     "metadata": {
      "needs_background": "light"
     },
     "output_type": "display_data"
    }
   ],
   "source": [
    "xgb_clf = models[2][1].fit(X_train, y_train)\n",
    "xgb.plot_importance(booster=xgb_clf, title='Feature Importance for XGBoost Classifier');"
   ]
  },
  {
   "cell_type": "markdown",
   "id": "4fc3c28d",
   "metadata": {},
   "source": [
    "#### Feature importance for Random Forest Classifier"
   ]
  },
  {
   "cell_type": "code",
   "execution_count": 192,
   "id": "2a2b850c",
   "metadata": {},
   "outputs": [
    {
     "data": {
      "image/png": "[encoded data removed]",
      "text/plain": [
       "<Figure size 432x288 with 1 Axes>"
      ]
     },
     "metadata": {
      "needs_background": "light"
     },
     "output_type": "display_data"
    }
   ],
   "source": [
    "rf_clf = models[3][1].fit(X_train, y_train)\n",
    "\n",
    "x_axis = X_train.columns\n",
    "y_axis = rf_clf.feature_importances_\n",
    "plt.barh(x_axis, y_axis, height=0.15)\n",
    "plt.title('Feature Importance for Random Forest Classifier')\n",
    "plt.ylabel('Feature')\n",
    "plt.xlabel('F_score')\n",
    "plt.grid()\n",
    "for i, v in enumerate(y_axis):\n",
    "    plt.text(v+0.01, i-0.05, str(round(v, 2)), color='black')\n",
    "plt.show()"
   ]
  },
  {
   "cell_type": "code",
   "execution_count": null,
   "id": "1d1a5b63",
   "metadata": {},
   "outputs": [],
   "source": []
  }
 ],
 "metadata": {
  "kernelspec": {
   "display_name": "Python 3",
   "language": "python",
   "name": "python3"
  },
  "language_info": {
   "codemirror_mode": {
    "name": "ipython",
    "version": 3
   },
   "file_extension": ".py",
   "mimetype": "text/x-python",
   "name": "python",
   "nbconvert_exporter": "python",
   "pygments_lexer": "ipython3",
   "version": "3.8.8"
  }
 },
 "nbformat": 4,
 "nbformat_minor": 5
}
