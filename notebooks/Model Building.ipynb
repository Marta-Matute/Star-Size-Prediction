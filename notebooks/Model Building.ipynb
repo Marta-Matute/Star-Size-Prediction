{
 "cells": [
  {
   "cell_type": "markdown",
   "id": "eee298b3",
   "metadata": {},
   "source": [
    "# 2. Model Building"
   ]
  },
  {
   "cell_type": "markdown",
   "id": "9559f47a",
   "metadata": {},
   "source": [
    "We have a dataset ready to be worked with. Using the pickle we created, we will now try with several different predicting models to see which ones gives us the best results."
   ]
  },
  {
   "cell_type": "code",
   "execution_count": 6,
   "id": "c8548528",
   "metadata": {},
   "outputs": [],
   "source": [
    "import pandas as pd\n",
    "import numpy as np\n",
    "import missingno as msno\n",
    "import seaborn as sns\n",
    "import matplotlib.pyplot as plt\n",
    "from plotly.subplots import make_subplots\n",
    "import re\n",
    "import math\n",
    "import os\n",
    "import pickle\n",
    "import pprint\n",
    "from IPython.display import display, Markdown, Latex\n",
    "from sklearn.model_selection import train_test_split\n",
    "from sklearn.metrics import classification_report\n",
    "from tqdm import tqdm\n",
    "from sklearn.model_selection import *\n",
    "import warnings\n",
    "from sklearn import preprocessing\n",
    "from sklearn import utils\n",
    "\n",
    "\n",
    "#models\n",
    "from sklearn.linear_model import LogisticRegression\n",
    "from sklearn.tree import DecisionTreeClassifier\n",
    "from sklearn.neighbors import KNeighborsClassifier\n",
    "\n",
    "# ensemble models\n",
    "import xgboost as xgb\n",
    "from xgboost import XGBClassifier\n",
    "from sklearn.ensemble import RandomForestClassifier\n",
    "\n",
    "from sklearn.ensemble import VotingClassifier\n",
    "\n",
    "if not os.path.isdir('data'):\n",
    "    os.mkdir('data')\n",
    "if not os.path.isdir('models'):\n",
    "    os.mkdir('models')"
   ]
  },
  {
   "cell_type": "markdown",
   "id": "c3e182d6",
   "metadata": {},
   "source": [
    "## 2.1. Basic model training"
   ]
  },
  {
   "cell_type": "markdown",
   "id": "dd24dcc1",
   "metadata": {},
   "source": [
    "We will now start modeling our data. Our first step will be to choose among the most common classifiers and perform a basic model with our data."
   ]
  },
  {
   "cell_type": "markdown",
   "id": "45328b9e",
   "metadata": {},
   "source": [
    "Let's load the previously pre-processed data from the pickle in order to work on it. "
   ]
  },
  {
   "cell_type": "code",
   "execution_count": 18,
   "id": "9d4930cb",
   "metadata": {},
   "outputs": [],
   "source": [
    "with open('data/train_test.pickle', 'rb') as file:\n",
    "    dataset_list = pickle.load(file)\n",
    "    \n",
    "X_train = dataset_list[0]\n",
    "X_test = dataset_list[1]\n",
    "y_train = dataset_list[2]\n",
    "y_test = dataset_list[3]"
   ]
  },
  {
   "cell_type": "markdown",
   "id": "a22b5bdc",
   "metadata": {},
   "source": [
    "The models we will be trying are:\n",
    "- Logistic Regression\n",
    "- K-Neighbors Classifier\n",
    "- Decision Tree Classifier\n",
    "- XGBoost\n",
    "- Random Forest Classifier"
   ]
  },
  {
   "cell_type": "code",
   "execution_count": 19,
   "id": "b2a15edb",
   "metadata": {
    "scrolled": false
   },
   "outputs": [
    {
     "name": "stderr",
     "output_type": "stream",
     "text": [
      "100%|███████████████████████████████████████████████████████████████████████████████████████████████████████████████████████████| 5/5 [01:00<00:00, 12.12s/it]\n"
     ]
    },
    {
     "data": {
      "text/html": [
       "<div>\n",
       "<style scoped>\n",
       "    .dataframe tbody tr th:only-of-type {\n",
       "        vertical-align: middle;\n",
       "    }\n",
       "\n",
       "    .dataframe tbody tr th {\n",
       "        vertical-align: top;\n",
       "    }\n",
       "\n",
       "    .dataframe thead th {\n",
       "        text-align: right;\n",
       "    }\n",
       "</style>\n",
       "<table border=\"1\" class=\"dataframe\">\n",
       "  <thead>\n",
       "    <tr style=\"text-align: right;\">\n",
       "      <th></th>\n",
       "      <th>Model</th>\n",
       "      <th>Mean</th>\n",
       "      <th>Std</th>\n",
       "    </tr>\n",
       "  </thead>\n",
       "  <tbody>\n",
       "    <tr>\n",
       "      <th>3</th>\n",
       "      <td>XGBoost</td>\n",
       "      <td>0.959365</td>\n",
       "      <td>0.003124</td>\n",
       "    </tr>\n",
       "    <tr>\n",
       "      <th>4</th>\n",
       "      <td>Random Forest</td>\n",
       "      <td>0.956494</td>\n",
       "      <td>0.002893</td>\n",
       "    </tr>\n",
       "    <tr>\n",
       "      <th>0</th>\n",
       "      <td>Logistic Regression</td>\n",
       "      <td>0.951391</td>\n",
       "      <td>0.003934</td>\n",
       "    </tr>\n",
       "    <tr>\n",
       "      <th>1</th>\n",
       "      <td>K-Neighbors Classifier</td>\n",
       "      <td>0.941496</td>\n",
       "      <td>0.004220</td>\n",
       "    </tr>\n",
       "    <tr>\n",
       "      <th>2</th>\n",
       "      <td>Decision Tree Classifier</td>\n",
       "      <td>0.865726</td>\n",
       "      <td>0.007224</td>\n",
       "    </tr>\n",
       "  </tbody>\n",
       "</table>\n",
       "</div>"
      ],
      "text/plain": [
       "                      Model      Mean       Std\n",
       "3                   XGBoost  0.959365  0.003124\n",
       "4             Random Forest  0.956494  0.002893\n",
       "0       Logistic Regression  0.951391  0.003934\n",
       "1    K-Neighbors Classifier  0.941496  0.004220\n",
       "2  Decision Tree Classifier  0.865726  0.007224"
      ]
     },
     "execution_count": 19,
     "metadata": {},
     "output_type": "execute_result"
    }
   ],
   "source": [
    "num_folds = 10\n",
    "seed = 1\n",
    "scoring = 'roc_auc'\n",
    "model_names = ['Logistic Regression', 'K-Neighbors Classifier', 'Decision Tree Classifier', 'XGBoost', 'Random Forest' ]\n",
    "models = []\n",
    "# basic models\n",
    "models.append((model_names[0], LogisticRegression()))\n",
    "models.append((model_names[1], KNeighborsClassifier()))\n",
    "models.append((model_names[2], DecisionTreeClassifier()))\n",
    "\n",
    "# ensemble models\n",
    "models.append((model_names[3], XGBClassifier(use_label_encoder=False,eval_metric='auc')))\n",
    "models.append((model_names[4], RandomForestClassifier()))\n",
    "\n",
    "# KFolds for model selection:\n",
    "table_results = []\n",
    "basic_results = {}\n",
    "with warnings.catch_warnings():\n",
    "    warnings.filterwarnings(\"ignore\")\n",
    "    for name, model in tqdm(models):\n",
    "        kfold = KFold(n_splits=num_folds, random_state=seed, shuffle=True)\n",
    "        cv_results = cross_val_score(model, X_train, y_train, cv=kfold, scoring=scoring)\n",
    "        table_results.append([name,cv_results.mean(),cv_results.std()])\n",
    "        basic_results[name] = cv_results.mean()\n",
    "\n",
    "pd.DataFrame(table_results, columns=['Model', 'Mean', 'Std']).sort_values(by = ['Mean'], ascending=False)"
   ]
  },
  {
   "cell_type": "markdown",
   "id": "910c760a",
   "metadata": {},
   "source": [
    "We see that we get really good results for most of the models, except for the decision tree classifier, that only gives around 86% accuracy (the next best one is already at 94% accuracy). For this reason we will not be further using the Decision Tree Classifier."
   ]
  },
  {
   "cell_type": "code",
   "execution_count": 20,
   "id": "268d8f81",
   "metadata": {},
   "outputs": [],
   "source": [
    "#removing the Decision tree classifier from our list of models\n",
    "if(models[2][0] == 'Decision Tree Classifier'):\n",
    "    del(models[2])"
   ]
  },
  {
   "cell_type": "markdown",
   "id": "fd923657",
   "metadata": {},
   "source": [
    "## 2.2. Feature importance for the best models"
   ]
  },
  {
   "cell_type": "markdown",
   "id": "52095eb1",
   "metadata": {},
   "source": [
    "#### Feature importance for XGBoost Classifier"
   ]
  },
  {
   "cell_type": "code",
   "execution_count": 21,
   "id": "47b176ad",
   "metadata": {},
   "outputs": [
    {
     "data": {
      "image/png": "[encoded data removed]",
      "text/plain": [
       "<Figure size 432x288 with 1 Axes>"
      ]
     },
     "metadata": {
      "needs_background": "light"
     },
     "output_type": "display_data"
    }
   ],
   "source": [
    "xgb_clf = models[2][1].fit(X_train, y_train)\n",
    "xgb.plot_importance(booster=xgb_clf, title='Feature Importance for XGBoost Classifier');"
   ]
  },
  {
   "cell_type": "markdown",
   "id": "4fc3c28d",
   "metadata": {},
   "source": [
    "#### Feature importance for Random Forest Classifier"
   ]
  },
  {
   "cell_type": "code",
   "execution_count": 22,
   "id": "2a2b850c",
   "metadata": {},
   "outputs": [
    {
     "data": {
      "image/png": "[encoded data removed]",
      "text/plain": [
       "<Figure size 432x288 with 1 Axes>"
      ]
     },
     "metadata": {
      "needs_background": "light"
     },
     "output_type": "display_data"
    }
   ],
   "source": [
    "rf_clf = models[3][1].fit(X_train, y_train)\n",
    "\n",
    "x_axis = X_train.columns\n",
    "y_axis = rf_clf.feature_importances_\n",
    "plt.barh(x_axis, y_axis, height=0.15)\n",
    "plt.title('Feature Importance for Random Forest Classifier')\n",
    "plt.ylabel('Feature')\n",
    "plt.xlabel('F_score')\n",
    "plt.grid()\n",
    "for i, v in enumerate(y_axis):\n",
    "    plt.text(v+0.01, i-0.05, str(round(v, 2)), color='black')\n",
    "plt.show()"
   ]
  },
  {
   "cell_type": "markdown",
   "id": "64afefa7",
   "metadata": {},
   "source": [
    "#### Feature importance for Logistic Regression Classifier"
   ]
  },
  {
   "cell_type": "code",
   "execution_count": 23,
   "id": "1a6bb818",
   "metadata": {},
   "outputs": [
    {
     "data": {
      "image/png": "[encoded data removed]",
      "text/plain": [
       "<Figure size 432x288 with 1 Axes>"
      ]
     },
     "metadata": {
      "needs_background": "light"
     },
     "output_type": "display_data"
    }
   ],
   "source": [
    "lr_clf = models[0][1].fit(X_train, y_train)\n",
    "\n",
    "x_axis = X_train.columns\n",
    "y_axis = abs(lr_clf.coef_[0])\n",
    "plt.barh(x_axis, y_axis, height=0.15)\n",
    "plt.title('Feature Importance for Logistic Regression Classifier')\n",
    "plt.ylabel('Feature')\n",
    "plt.xlabel('F_score')\n",
    "plt.grid()\n",
    "for i, v in enumerate(y_axis):\n",
    "    plt.text(v+0.01, i-0.05, str(round(v, 2)), color='black')\n",
    "plt.show()"
   ]
  },
  {
   "cell_type": "markdown",
   "id": "eae5a695",
   "metadata": {},
   "source": [
    "From the three plots, we can certainly conclude that the star's color plays the biggest role when it comes to classifiying the stars, as well as the absolute magnitude, as we could have expected. The distance from Earth and the apparent visual magnitude seem to not be so important. That would make sense, since how far from us a star is has nothing to do with how big or small it is. Similarly, the apparent magnitude we see form Earth doesn't determine its size. \n",
    "\n",
    "The next question is: would our models classify better if we removed the three variables that are not so improtant? Let's try it."
   ]
  },
  {
   "cell_type": "code",
   "execution_count": 24,
   "id": "a0e22e32",
   "metadata": {},
   "outputs": [
    {
     "name": "stderr",
     "output_type": "stream",
     "text": [
      "100%|███████████████████████████████████████████████████████████████████████████████████████████████████████████████████████████| 4/4 [00:43<00:00, 10.85s/it]\n"
     ]
    },
    {
     "data": {
      "text/html": [
       "<div>\n",
       "<style scoped>\n",
       "    .dataframe tbody tr th:only-of-type {\n",
       "        vertical-align: middle;\n",
       "    }\n",
       "\n",
       "    .dataframe tbody tr th {\n",
       "        vertical-align: top;\n",
       "    }\n",
       "\n",
       "    .dataframe thead th {\n",
       "        text-align: right;\n",
       "    }\n",
       "</style>\n",
       "<table border=\"1\" class=\"dataframe\">\n",
       "  <thead>\n",
       "    <tr style=\"text-align: right;\">\n",
       "      <th></th>\n",
       "      <th>Model</th>\n",
       "      <th>Mean</th>\n",
       "      <th>Std</th>\n",
       "    </tr>\n",
       "  </thead>\n",
       "  <tbody>\n",
       "    <tr>\n",
       "      <th>2</th>\n",
       "      <td>XGBoost</td>\n",
       "      <td>0.955922</td>\n",
       "      <td>0.003188</td>\n",
       "    </tr>\n",
       "    <tr>\n",
       "      <th>0</th>\n",
       "      <td>Logistic Regression</td>\n",
       "      <td>0.951288</td>\n",
       "      <td>0.004040</td>\n",
       "    </tr>\n",
       "    <tr>\n",
       "      <th>3</th>\n",
       "      <td>Random Forest</td>\n",
       "      <td>0.948011</td>\n",
       "      <td>0.003807</td>\n",
       "    </tr>\n",
       "    <tr>\n",
       "      <th>1</th>\n",
       "      <td>K-Neighbors Classifier</td>\n",
       "      <td>0.938777</td>\n",
       "      <td>0.003282</td>\n",
       "    </tr>\n",
       "  </tbody>\n",
       "</table>\n",
       "</div>"
      ],
      "text/plain": [
       "                    Model      Mean       Std\n",
       "2                 XGBoost  0.955922  0.003188\n",
       "0     Logistic Regression  0.951288  0.004040\n",
       "3           Random Forest  0.948011  0.003807\n",
       "1  K-Neighbors Classifier  0.938777  0.003282"
      ]
     },
     "execution_count": 24,
     "metadata": {},
     "output_type": "execute_result"
    }
   ],
   "source": [
    "X_train_fi = X_train.drop(['Vmag', 'Plx', 'e_Plx'], axis=1)\n",
    "\n",
    "# KFolds for model selection:\n",
    "table_results = []\n",
    "with warnings.catch_warnings():\n",
    "    warnings.filterwarnings(\"ignore\")\n",
    "    for name, model in tqdm(models):\n",
    "        kfold = KFold(n_splits=num_folds, random_state=seed, shuffle=True)\n",
    "        cv_results = cross_val_score(model, X_train_fi, y_train, cv=kfold, scoring=scoring)\n",
    "        table_results.append([name,cv_results.mean(),cv_results.std()])\n",
    "\n",
    "pd.DataFrame(table_results, columns=['Model', 'Mean', 'Std']).sort_values(by = ['Mean'], ascending=False)"
   ]
  },
  {
   "cell_type": "markdown",
   "id": "e6a731c8",
   "metadata": {},
   "source": [
    "This change made the mean for all the classifying values worse than they were before. Thus, we will keep all the variables just as we had before. "
   ]
  },
  {
   "cell_type": "markdown",
   "id": "8f58874e",
   "metadata": {},
   "source": [
    "## 2.3. Hyperparameter tuning"
   ]
  },
  {
   "cell_type": "markdown",
   "id": "3ca091be",
   "metadata": {},
   "source": [
    "We will now tune the best three models we found,i.e. XGBoost, Logistic Regression and Random Forest. To do so, we will create a grid with a few possible values to pass as arguments to the model. Then, we'll try the results with each combination of parameters, and by comparison, choose the one that yields the best results. For that we will use a grid search (trying all the combinations from the grid we created). "
   ]
  },
  {
   "cell_type": "markdown",
   "id": "1750db03",
   "metadata": {},
   "source": [
    "### 2.3.1. XGBoost Hypertuning"
   ]
  },
  {
   "cell_type": "code",
   "execution_count": 16,
   "id": "dcc9ff25",
   "metadata": {},
   "outputs": [
    {
     "name": "stdout",
     "output_type": "stream",
     "text": [
      "Fitting 5 folds for each of 200 candidates, totalling 1000 fits\n",
      "After the hyperparameter tuning, the best score achieved has been 0.9616300617164351.\n"
     ]
    }
   ],
   "source": [
    "param_grid = {'max_depth': [max_depth for max_depth in range(5,10)],\n",
    "               'min_child_weight': [min_child_weight for min_child_weight in range(5,10)],\n",
    "               'eta': [.5, .4, .3, .2, .1, .05, .01, .005],\n",
    "              }\n",
    "\n",
    "xgbc = GridSearchCV(estimator = XGBClassifier(use_label_encoder=False,eval_metric='auc', objective='reg:squarederror'), param_grid = param_grid, cv = 5, verbose=2, n_jobs=-1, scoring=scoring)\n",
    "\n",
    "hypertuned_xgb = xgbc.fit(X_train, y_train)\n",
    "print(f\"After the hyperparameter tuning, the best score achieved has been {hypertuned_xgb.best_score_}.\")\n",
    "hypertuning_results['XGBoost']= hypertuned_xgb.best_score_"
   ]
  },
  {
   "cell_type": "markdown",
   "id": "a3df58d1",
   "metadata": {},
   "source": [
    "We have accomplished a better result than the original one we had with the new parameters. We will save this model so that we can have acces to it later. "
   ]
  },
  {
   "cell_type": "code",
   "execution_count": 17,
   "id": "d9ed08ec",
   "metadata": {},
   "outputs": [],
   "source": [
    "if not os.path.isdir('models'):\n",
    "    os.mkdir('models')\n",
    "\n",
    "with open('models/hypertuned_xgbc.pickle', 'wb') as file:\n",
    "    pickle.dump(hypertuned_xgb, file)dc"
   ]
  },
  {
   "cell_type": "markdown",
   "id": "12c7b64d",
   "metadata": {},
   "source": [
    "### 2.3.2. Random Forest hyperparameter tuning "
   ]
  },
  {
   "cell_type": "code",
   "execution_count": 17,
   "id": "0cbb2d2d",
   "metadata": {},
   "outputs": [
    {
     "name": "stdout",
     "output_type": "stream",
     "text": [
      "Fitting 5 folds for each of 80 candidates, totalling 400 fits\n",
      "After the hyperparameter tuning, the best score achieved has been 0.9589651535569805.\n"
     ]
    }
   ],
   "source": [
    "# Create the random grid\n",
    "random_grid = {'n_estimators': [int(x) for x in np.linspace(start = 200, stop = 2000, num = 5)],\n",
    "               'max_features': ['auto', 'sqrt'],\n",
    "               'min_samples_split': [2, 7],\n",
    "               'min_samples_leaf': [1, 3],\n",
    "               'bootstrap': [True, False]\n",
    "              }\n",
    "\n",
    "# Use the random grid to search for best hyperparameters\n",
    "# First create the base model to tune\n",
    "rf = RandomForestClassifier()\n",
    "# Random search of parameters, using 5 fold cross validation, \n",
    "# search across 100 different combinations, and use all available cores\n",
    "rf_random = GridSearchCV(estimator = rf, param_grid = random_grid, cv = 5, verbose=2, n_jobs=-1, scoring=scoring)\n",
    "# Fit the random search model\n",
    "hypertuned_rf = rf_random.fit(X_train, y_train)\n",
    "\n",
    "print(f\"After the hyperparameter tuning, the best score achieved has been {hypertuned_rf.best_score_}.\")\n",
    "hypertuning_results['Random Forest']= hypertuned_rf.best_score_"
   ]
  },
  {
   "cell_type": "code",
   "execution_count": 18,
   "id": "e5e2d451",
   "metadata": {},
   "outputs": [],
   "source": [
    "with open('models/hypertuned_rf.pickle', 'wb') as file:\n",
    "    pickle.dump(hypertuned_rf, file)"
   ]
  },
  {
   "cell_type": "markdown",
   "id": "95d8d8a6",
   "metadata": {},
   "source": [
    "### 2.3.3. Logistic Regression Hypertuning"
   ]
  },
  {
   "cell_type": "code",
   "execution_count": 19,
   "id": "062dbcdb",
   "metadata": {},
   "outputs": [
    {
     "name": "stdout",
     "output_type": "stream",
     "text": [
      "Fitting 5 folds for each of 320 candidates, totalling 1600 fits\n",
      "After the hyperparameter tuning, the best score achieved has been 0.9516406426340046.\n"
     ]
    }
   ],
   "source": [
    "from sklearn.pipeline import Pipeline\n",
    "# Create first pipeline for base without reducing features.\n",
    "pipe = Pipeline([('classifier' , LogisticRegression())])\n",
    "\n",
    "# Create param grid.\n",
    "param_grid = [\n",
    "    {'classifier__C' : np.logspace(-4, 4, 20),\n",
    "     'classifier__fit_intercept' : [True, False],\n",
    "     'classifier__class_weight' : [dict, 'balanced'],\n",
    "     'classifier__solver' : ['newton-cg', 'lbfgs', 'sag', 'saga']}\n",
    "]\n",
    "\n",
    "# Create grid search object\n",
    "with warnings.catch_warnings():\n",
    "    warnings.filterwarnings(\"ignore\")\n",
    "    clf = GridSearchCV(pipe, param_grid = param_grid, cv = 5, verbose=2, n_jobs=-1, scoring=scoring)\n",
    "\n",
    "# Fit on data\n",
    "hypertuned_logreg = clf.fit(X_train, y_train)\n",
    "\n",
    "print(f\"After the hyperparameter tuning, the best score achieved has been {hypertuned_logreg.best_score_}.\")\n",
    "hypertuning_results['Logistic Regression']= hypertuned_logreg.best_score_"
   ]
  },
  {
   "cell_type": "markdown",
   "id": "0e0f1971",
   "metadata": {},
   "source": [
    "We have now successfully found the best parameters for the Logistic regression model as well. We'll save it, as we did with with the XGBosst classifier."
   ]
  },
  {
   "cell_type": "code",
   "execution_count": 19,
   "id": "ceebf5f0",
   "metadata": {},
   "outputs": [],
   "source": [
    "with open('models/hypertuned_logreg.pickle', 'wb') as file:\n",
    "    pickle.dump(hypertuned_logreg, file)"
   ]
  },
  {
   "cell_type": "markdown",
   "id": "75e9be86",
   "metadata": {},
   "source": [
    "## 2.4. Ensemble Model"
   ]
  },
  {
   "cell_type": "markdown",
   "id": "871e037f",
   "metadata": {},
   "source": [
    "Let's have an overview of what we have done so far. We have considered 5 differents models, of which we discarded one for not having results as good as the others. We have then tuned the parameters of the best three of the remaining models as to get the highest Area Under the Curve possible. Now, as our final step before analysing the results, we will make an ensemble model. That means we will take the three hypertuned models, and we will combine them in one single `Voting Classifier Model`. This will take the results of each model and through an *election* decide which class to predict."
   ]
  },
  {
   "cell_type": "code",
   "execution_count": 39,
   "id": "52fa2e17",
   "metadata": {},
   "outputs": [],
   "source": [
    "model_names.append('Ensemble')\n",
    "estimators = [('xgb', hypertuned_xgb), ('rf', hypertuned_rf), ('lr', hypertuned_logreg)]#, ('knn', hypertuned_knn)]\n",
    "voting_clf_ = VotingClassifier(estimators=estimators, voting='soft')"
   ]
  },
  {
   "cell_type": "code",
   "execution_count": 40,
   "id": "1ed699d3",
   "metadata": {
    "collapsed": true
   },
   "outputs": [
    {
     "name": "stdout",
     "output_type": "stream",
     "text": [
      "Fitting 5 folds for each of 200 candidates, totalling 1000 fits\n",
      "Fitting 5 folds for each of 80 candidates, totalling 400 fits\n"
     ]
    },
    {
     "name": "stderr",
     "output_type": "stream",
     "text": [
      "C:\\Users\\marta\\anaconda3\\lib\\site-packages\\sklearn\\model_selection\\_search.py:918: UserWarning: One or more of the test scores are non-finite: [0.94965936 0.94965936        nan 0.94965923 0.94965786 0.94962292\n",
      " 0.94962289        nan 0.94962332 0.9496231  0.94972737 0.94972694\n",
      " 0.94971966 0.94972728 0.94972749 0.94971559 0.94971553 0.9497155\n",
      " 0.94971633 0.94971553 0.95028347 0.9502835         nan 0.95028329\n",
      " 0.95028326 0.9501416  0.95014157        nan 0.95014157 0.9501413\n",
      " 0.95037753 0.95037747 0.95036064 0.95037737 0.95037734 0.95034152\n",
      " 0.95034155 0.95034164 0.95034167 0.95034142 0.95041035 0.95041035\n",
      "        nan 0.95041014 0.95041056 0.95013584 0.95013584        nan\n",
      " 0.95013618 0.95013615 0.95054173 0.95054145 0.95052371 0.95054136\n",
      " 0.95054054 0.95048189 0.95048182 0.95048201 0.95048097 0.9504814\n",
      " 0.95043613 0.95043604        nan 0.95043705 0.95043616 0.95009802\n",
      " 0.95009802        nan 0.95009826 0.95009759 0.95058012 0.95058012\n",
      " 0.95057528 0.95058064 0.9505796  0.95055387 0.95055381 0.95055384\n",
      " 0.95055365 0.95055368 0.95046669 0.9504666         nan 0.9504666\n",
      " 0.95046578 0.95015719 0.95015722        nan 0.95015621 0.95015593\n",
      " 0.9506078  0.9506078  0.95061334 0.95060728 0.95060799 0.9506522\n",
      " 0.95065229 0.95065248 0.9506522  0.95065183 0.95051427 0.95051439\n",
      "        nan 0.95051412 0.95051341 0.95024381 0.95024365        nan\n",
      " 0.95024329 0.95024332 0.95064635 0.95064657 0.95065226 0.95064626\n",
      " 0.95064688 0.95074319 0.95074338 0.9507435  0.95074286 0.95074154\n",
      " 0.95054664 0.95054664        nan 0.95054695 0.95054692 0.95029943\n",
      " 0.9502994         nan 0.95029922 0.95029882 0.95067466 0.9506746\n",
      " 0.95067643 0.95067362 0.95067404 0.95079664 0.95079664 0.95079658\n",
      " 0.95079609 0.95079701 0.95056344 0.95056341        nan 0.9505639\n",
      " 0.95056405 0.95032504 0.95032504        nan 0.95032525 0.95032467\n",
      " 0.95068696 0.9506869  0.95068784 0.9506869  0.95068601 0.95081947\n",
      " 0.95081944 0.9508191  0.95081812 0.95081834 0.95056812 0.95056809\n",
      "        nan 0.9505691  0.95057008 0.95033967 0.95033967        nan\n",
      " 0.95033954 0.9503385  0.95068922 0.95068922 0.95068965 0.95068876\n",
      " 0.95068855 0.95082611 0.9508262  0.95082599 0.95082289 0.95082409\n",
      " 0.95056968 0.95056956        nan 0.95056999 0.95057155 0.95034373\n",
      " 0.95034373        nan 0.95034398 0.95034328 0.9506895  0.95068934\n",
      " 0.95068953 0.95069008 0.95068959 0.95082782 0.95082776 0.95082788\n",
      " 0.95082608 0.95082791 0.95057014 0.95057011        nan 0.95057072\n",
      " 0.9505724  0.95034624 0.950346          nan 0.95034627 0.95034542\n",
      " 0.95069188 0.95069173 0.95069164 0.95069063 0.95069115 0.95082908\n",
      " 0.95082908 0.95082904 0.9508273  0.95082911 0.9505706  0.95057069\n",
      "        nan 0.95057115 0.95057262 0.95034698 0.95034683        nan\n",
      " 0.95034683 0.95034649 0.95069219 0.95069207 0.95069231 0.95069124\n",
      " 0.95069124 0.95082914 0.95082911 0.9508292  0.95082742 0.95082981\n",
      " 0.95057072 0.95057078        nan 0.95057151 0.95057243 0.95034731\n",
      " 0.95034722        nan 0.95034698 0.95034692 0.95069222 0.95069234\n",
      " 0.95069231 0.95069155 0.9506917  0.95082908 0.95082901 0.95082926\n",
      " 0.95082736 0.95082816 0.95057063 0.95057075        nan 0.95057136\n",
      " 0.95057252 0.95034728 0.95034719        nan 0.95034701 0.95034643\n",
      " 0.95069237 0.95069231 0.95069259 0.9506913  0.95069133 0.95082908\n",
      " 0.95082898 0.95082926 0.95082758 0.95082852 0.95057057 0.95057081\n",
      "        nan 0.95057142 0.95057292 0.95034735 0.95034731        nan\n",
      " 0.95034704 0.95034664 0.95069249 0.95069234 0.95069259 0.95069145\n",
      " 0.95069197 0.95082917 0.95082911 0.95082917 0.95082742 0.95082981\n",
      " 0.95057057 0.95057078        nan 0.95057142 0.95057259 0.95034735\n",
      " 0.95034738        nan 0.95034738 0.95034689 0.95069246 0.9506924\n",
      " 0.95069262 0.95069148 0.95069161 0.95082917 0.95082911 0.95082914\n",
      " 0.95082733 0.95082972 0.9505706  0.95057078        nan 0.95057145\n",
      " 0.95057295 0.95034738 0.95034741        nan 0.95034731 0.95034692\n",
      " 0.95069246 0.95069243 0.95069262 0.95069158 0.95069127 0.95082923\n",
      " 0.95082917 0.95082914 0.95082788 0.95082874 0.9505706  0.95057078\n",
      "        nan 0.95057136 0.95057243 0.95034741 0.95034744        nan\n",
      " 0.95034722 0.95034643 0.95069246 0.95069243 0.95069262 0.95069155\n",
      " 0.95069191 0.95082923 0.95082914 0.95082914 0.95082666 0.95082996\n",
      " 0.9505706  0.95057081        nan 0.95057133 0.95057301 0.95034738\n",
      " 0.95034747        nan 0.95034698 0.95034658 0.95069246 0.95069246\n",
      " 0.95069262 0.95069133 0.95069164 0.95082923 0.95082914 0.95082914\n",
      " 0.95082816 0.95082947 0.9505706  0.95057081        nan 0.95057145\n",
      " 0.95057262 0.95034741 0.95034747        nan 0.95034725 0.95034695\n",
      " 0.95069243 0.95069246 0.95069262 0.95069155 0.95069173 0.95082923\n",
      " 0.95082914 0.95082914 0.95082761 0.95082926]\n",
      "  warnings.warn(\n"
     ]
    },
    {
     "name": "stdout",
     "output_type": "stream",
     "text": [
      "Fitting 5 folds for each of 200 candidates, totalling 1000 fits\n",
      "Fitting 5 folds for each of 80 candidates, totalling 400 fits\n"
     ]
    },
    {
     "name": "stderr",
     "output_type": "stream",
     "text": [
      "C:\\Users\\marta\\anaconda3\\lib\\site-packages\\sklearn\\model_selection\\_search.py:918: UserWarning: One or more of the test scores are non-finite: [0.95167784 0.95167784        nan 0.95167692 0.95167735 0.95166973\n",
      " 0.95166943        nan 0.95167041 0.95166961 0.95173337 0.95173208\n",
      " 0.95173273 0.95173263 0.95173318 0.95173193 0.9517319  0.95173193\n",
      " 0.95172979 0.95173129 0.95231642 0.95231648        nan 0.95231593\n",
      " 0.95231572 0.95219371 0.95219362        nan 0.95219497 0.95219423\n",
      " 0.95240624 0.95240637 0.95238669 0.95240621 0.95240569 0.95237012\n",
      " 0.95237012 0.95237055 0.95237    0.95237043 0.95245459 0.95245459\n",
      "        nan 0.95245358 0.95245422 0.95219731 0.95219731        nan\n",
      " 0.95219734 0.95219798 0.95257363 0.9525735  0.95255291 0.95257378\n",
      " 0.95257375 0.95250832 0.95250825 0.95250804 0.95250911 0.95250819\n",
      " 0.95246659 0.95246656        nan 0.95246662 0.95246683 0.95214831\n",
      " 0.95214825        nan 0.95214801 0.95214761 0.95258673 0.95258673\n",
      " 0.95258062 0.95258667 0.95258682 0.95255718 0.95255721 0.95255724\n",
      " 0.95255714 0.95255727 0.95249379 0.95249391        nan 0.95249354\n",
      " 0.95249385 0.95220161 0.95220164        nan 0.95220109 0.95220109\n",
      " 0.95262276 0.95262276 0.95262646 0.95262233 0.95262175 0.95265696\n",
      " 0.95265693 0.95265699 0.95265702 0.95265657 0.95253551 0.95253584\n",
      "        nan 0.95253563 0.95253486 0.95228324 0.95228333        nan\n",
      " 0.95228291 0.95228245 0.95264813 0.95264804 0.95265339 0.95264813\n",
      " 0.95264697 0.95273939 0.95273942 0.95273915 0.95273918 0.95273964\n",
      " 0.95255528 0.95255537        nan 0.9525547  0.95255672 0.95233462\n",
      " 0.95233462        nan 0.95233489 0.95233444 0.95266583 0.9526658\n",
      " 0.95266971 0.95266573 0.95266506 0.95278503 0.95278506 0.95278509\n",
      " 0.95278441 0.95278512 0.9525536  0.95255397        nan 0.95255266\n",
      " 0.95255623 0.95235782 0.95235773        nan 0.95235733 0.95235782\n",
      " 0.95267154 0.95267148 0.95267212 0.95267035 0.95267056 0.9528026\n",
      " 0.95280251 0.95280282 0.95280266 0.95280532 0.95255079 0.95255088\n",
      "        nan 0.95255088 0.95255373 0.95236424 0.95236427        nan\n",
      " 0.95236365 0.95236271 0.95267087 0.9526709  0.95267142 0.95267093\n",
      " 0.95266922 0.95280523 0.95280526 0.95280526 0.95280606 0.9528067\n",
      " 0.95254945 0.95254945        nan 0.95255027 0.95255247 0.95236861\n",
      " 0.95236845        nan 0.95236818 0.95236677 0.9526665  0.95266644\n",
      " 0.9526665  0.95266723 0.95267011 0.95280664 0.9528067  0.95280667\n",
      " 0.95280694 0.95280795 0.95255009 0.95255006        nan 0.95255156\n",
      " 0.95255406 0.95237035 0.95237047        nan 0.95236913 0.95236977\n",
      " 0.95266512 0.95266491 0.95266473 0.95266503 0.95266864 0.9528063\n",
      " 0.95280627 0.9528063  0.95280737 0.95280807 0.95254979 0.95254957\n",
      "        nan 0.95255046 0.95255312 0.95237062 0.95237059        nan\n",
      " 0.95237068 0.95236977 0.95266326 0.9526632  0.95266299 0.95266412\n",
      " 0.95266717 0.95280612 0.95280612 0.95280612 0.95280704 0.95280896\n",
      " 0.95254948 0.95254966        nan 0.95254939 0.95255327 0.95237133\n",
      " 0.95237145        nan 0.95237059 0.95236955 0.9526624  0.95266234\n",
      " 0.95266305 0.95266418 0.95266675 0.95280603 0.95280594 0.95280606\n",
      " 0.95280658 0.95280911 0.9525492  0.95254933        nan 0.95254927\n",
      " 0.95255293 0.95237148 0.95237154        nan 0.95237075 0.95237001\n",
      " 0.95266204 0.95266195 0.95266292 0.95266387 0.95266696 0.95280652\n",
      " 0.95280633 0.95280646 0.95280691 0.95280905 0.95254896 0.95254914\n",
      "        nan 0.95254945 0.95255305 0.95237169 0.95237172        nan\n",
      " 0.95237078 0.95237017 0.95266195 0.95266188 0.95266289 0.95266369\n",
      " 0.95266668 0.95280639 0.95280633 0.95280643 0.95280688 0.95280942\n",
      " 0.95254887 0.95254908        nan 0.95255003 0.95255333 0.95237166\n",
      " 0.95237169        nan 0.95237072 0.95237017 0.95266188 0.95266185\n",
      " 0.95266289 0.95266354 0.95266772 0.95280643 0.95280636 0.95280643\n",
      " 0.95280694 0.95280924 0.95254881 0.95254905        nan 0.95254936\n",
      " 0.95255293 0.95237172 0.95237175        nan 0.95237068 0.95236989\n",
      " 0.95266188 0.95266182 0.95266289 0.95266354 0.95266616 0.95280639\n",
      " 0.9528063  0.95280639 0.95280691 0.95280933 0.95254881 0.95254902\n",
      "        nan 0.95254972 0.95255342 0.95237175 0.95237175        nan\n",
      " 0.95237068 0.95236983 0.95266185 0.95266182 0.95266283 0.95266369\n",
      " 0.95266619 0.95280639 0.9528063  0.95280639 0.95280691 0.95280933\n",
      " 0.95254881 0.95254905        nan 0.95255    0.95255247 0.95237175\n",
      " 0.95237178        nan 0.95237075 0.95236992 0.95266185 0.95266182\n",
      " 0.95266283 0.95266372 0.95266726 0.95280643 0.9528063  0.95280639\n",
      " 0.95280685 0.95280905 0.95254881 0.95254905        nan 0.95254997\n",
      " 0.95255376 0.95237175 0.95237178        nan 0.95237065 0.95236974\n",
      " 0.95266185 0.95266182 0.95266283 0.95266375 0.95266604 0.95280643\n",
      " 0.9528063  0.95280639 0.95280673 0.95280939]\n",
      "  warnings.warn(\n"
     ]
    },
    {
     "name": "stdout",
     "output_type": "stream",
     "text": [
      "Fitting 5 folds for each of 200 candidates, totalling 1000 fits\n",
      "Fitting 5 folds for each of 80 candidates, totalling 400 fits\n"
     ]
    },
    {
     "name": "stderr",
     "output_type": "stream",
     "text": [
      "C:\\Users\\marta\\anaconda3\\lib\\site-packages\\sklearn\\model_selection\\_search.py:918: UserWarning: One or more of the test scores are non-finite: [0.95041237 0.95041234        nan 0.95041212 0.95041218 0.95038965\n",
      " 0.95038974        nan 0.9503899  0.9503895  0.9504723  0.95047236\n",
      " 0.95046769 0.95047297 0.95047303 0.95046378 0.95046366 0.95046341\n",
      " 0.9504632  0.95046265 0.95110175 0.95110193        nan 0.95110111\n",
      " 0.95110096 0.95096077 0.9509608         nan 0.95096061 0.95095991\n",
      " 0.95119071 0.95119068 0.95117209 0.95119099 0.95119068 0.95115365\n",
      " 0.95115362 0.9511539  0.95115393 0.95115271 0.9512757  0.9512757\n",
      "        nan 0.9512753  0.95127551 0.95101235 0.95101235        nan\n",
      " 0.95101208 0.95101263 0.9513947  0.95139479 0.95137361 0.95139467\n",
      " 0.9513951  0.95132732 0.95132742 0.95132778 0.95132626 0.95132745\n",
      " 0.95130905 0.95130908        nan 0.9513095  0.95130892 0.95099417\n",
      " 0.95099411        nan 0.95099441 0.95099362 0.95143809 0.95143816\n",
      " 0.95143205 0.95143812 0.95143773 0.95140573 0.9514058  0.9514061\n",
      " 0.95140534 0.95140546 0.95136379 0.95136355        nan 0.95136364\n",
      " 0.9513637  0.95106052 0.95106042        nan 0.95105963 0.95105865\n",
      " 0.95148939 0.95148933 0.9514925  0.95148936 0.95148966 0.95151787\n",
      " 0.95151809 0.951518   0.95151769 0.95151833 0.95141007 0.95140992\n",
      "        nan 0.95140928 0.95140833 0.95114032 0.95114032        nan\n",
      " 0.9511402  0.95113956 0.95151797 0.95151788 0.95152172 0.95151739\n",
      " 0.95151696 0.95159762 0.95159765 0.95159792 0.95159621 0.95159527\n",
      " 0.95143447 0.95143435        nan 0.95143477 0.95143609 0.95119757\n",
      " 0.95119766        nan 0.95119827 0.95119857 0.95153937 0.95153943\n",
      " 0.95154074 0.95153839 0.95153763 0.9516476  0.95164747 0.95164769\n",
      " 0.95164741 0.95164631 0.95144329 0.95144311        nan 0.95144229\n",
      " 0.95144302 0.95122349 0.95122333        nan 0.95122434 0.95122388\n",
      " 0.95154694 0.95154691 0.95154835 0.9515467  0.9515496  0.95166625\n",
      " 0.95166625 0.95166619 0.95166643 0.95166729 0.95144558 0.95144552\n",
      "        nan 0.95144586 0.95144726 0.95123228 0.95123204        nan\n",
      " 0.951231   0.95123139 0.95154676 0.95154682 0.95154734 0.9515474\n",
      " 0.95154957 0.9516733  0.9516733  0.95167336 0.95167349 0.95167446\n",
      " 0.9514472  0.95144711        nan 0.95144696 0.95144888 0.95123405\n",
      " 0.95123405        nan 0.9512353  0.95123475 0.95154649 0.95154652\n",
      " 0.95154716 0.95154688 0.95154902 0.9516755  0.95167535 0.95167553\n",
      " 0.95167663 0.95167623 0.951448   0.95144827        nan 0.95144738\n",
      " 0.95144958 0.95123466 0.95123469        nan 0.95123442 0.95123674\n",
      " 0.95154673 0.95154667 0.95154719 0.95154646 0.95154826 0.95167703\n",
      " 0.95167663 0.95167749 0.95167788 0.9516784  0.95144809 0.95144836\n",
      "        nan 0.95144821 0.95144873 0.95123628 0.95123631        nan\n",
      " 0.95123481 0.95123692 0.95154707 0.95154704 0.95154728 0.95154585\n",
      " 0.95154783 0.95167752 0.95167712 0.95167739 0.95167846 0.95167855\n",
      " 0.95144845 0.95144848        nan 0.95144873 0.95144952 0.95123655\n",
      " 0.95123643        nan 0.95123521 0.95123716 0.95154698 0.95154704\n",
      " 0.95154725 0.95154661 0.95154768 0.95167715 0.95167715 0.95167724\n",
      " 0.95167874 0.95167892 0.95144839 0.95144845        nan 0.95144861\n",
      " 0.95144958 0.9512368  0.95123683        nan 0.9512353  0.95123631\n",
      " 0.95154701 0.95154694 0.9515471  0.95154658 0.95154798 0.95167721\n",
      " 0.95167721 0.9516773  0.95167904 0.95167868 0.95144824 0.95144827\n",
      "        nan 0.95144854 0.95145007 0.95123677 0.95123671        nan\n",
      " 0.95123533 0.95123677 0.95154704 0.95154704 0.95154694 0.95154643\n",
      " 0.95154899 0.95167721 0.95167724 0.95167742 0.9516791  0.95167855\n",
      " 0.95144836 0.95144821        nan 0.95144858 0.95145022 0.95123665\n",
      " 0.95123665        nan 0.95123536 0.95123655 0.9515471  0.95154707\n",
      " 0.95154691 0.95154643 0.95154801 0.95167721 0.95167715 0.95167739\n",
      " 0.95167904 0.9516791  0.95144836 0.95144821        nan 0.95144876\n",
      " 0.95144989 0.95123665 0.95123665        nan 0.95123527 0.9512368\n",
      " 0.95154713 0.95154707 0.95154694 0.95154658 0.95154826 0.95167724\n",
      " 0.95167712 0.95167733 0.95167901 0.95167858 0.9514483  0.95144818\n",
      "        nan 0.95144848 0.95145044 0.95123665 0.95123668        nan\n",
      " 0.9512353  0.95123683 0.9515471  0.9515471  0.95154694 0.95154652\n",
      " 0.95154768 0.95167727 0.95167712 0.95167733 0.95167904 0.95167886\n",
      " 0.95144833 0.95144821        nan 0.95144882 0.95144995 0.95123665\n",
      " 0.95123668        nan 0.95123518 0.95123655 0.9515471  0.9515471\n",
      " 0.95154694 0.95154661 0.95154905 0.95167727 0.95167712 0.95167733\n",
      " 0.95167901 0.95167901 0.95144833 0.95144821        nan 0.95144861\n",
      " 0.95144983 0.95123665 0.95123668        nan 0.9512353  0.95123655\n",
      " 0.9515471  0.9515471  0.95154694 0.95154655 0.95154783 0.95167727\n",
      " 0.95167712 0.95167733 0.95167907 0.95167895]\n",
      "  warnings.warn(\n"
     ]
    },
    {
     "name": "stdout",
     "output_type": "stream",
     "text": [
      "Fitting 5 folds for each of 200 candidates, totalling 1000 fits\n",
      "Fitting 5 folds for each of 80 candidates, totalling 400 fits\n"
     ]
    },
    {
     "name": "stderr",
     "output_type": "stream",
     "text": [
      "C:\\Users\\marta\\anaconda3\\lib\\site-packages\\sklearn\\model_selection\\_search.py:918: UserWarning: One or more of the test scores are non-finite: [0.95055131 0.95055125        nan 0.95055204 0.95055155 0.95052243\n",
      " 0.9505224         nan 0.95052319 0.95052307 0.9506091  0.95060864\n",
      " 0.95060363 0.95060922 0.95060833 0.95060014 0.95060008 0.95059996\n",
      " 0.95060027 0.95060097 0.95116754 0.95116757        nan 0.95116739\n",
      " 0.95116748 0.95103179 0.9510317         nan 0.9510324  0.95103158\n",
      " 0.9512569  0.95125693 0.95124079 0.95125699 0.95125681 0.95122646\n",
      " 0.95122646 0.95122606 0.95122622 0.95122683 0.95129192 0.95129213\n",
      "        nan 0.95129201 0.9512921  0.95103123 0.95103126        nan\n",
      " 0.95103163 0.95103157 0.95140786 0.95140786 0.95139069 0.95140786\n",
      " 0.95140765 0.95135481 0.95135481 0.9513549  0.95135447 0.95135509\n",
      " 0.95128684 0.95128687        nan 0.95128659 0.95128653 0.95097521\n",
      " 0.95097509        nan 0.95097509 0.95097417 0.95141452 0.95141452\n",
      " 0.9514125  0.95141547 0.95141477 0.95139438 0.95139432 0.9513949\n",
      " 0.95139499 0.95139463 0.95131684 0.95131688        nan 0.95131642\n",
      " 0.95131562 0.95102848 0.95102848        nan 0.95102808 0.95102802\n",
      " 0.95144707 0.95144707 0.95145263 0.95144707 0.95144664 0.95149862\n",
      " 0.95149862 0.95149862 0.95149881 0.95149874 0.95134527 0.95134527\n",
      "        nan 0.95134502 0.95134594 0.95110803 0.95110818        nan\n",
      " 0.9511076  0.95110711 0.95146192 0.95146198 0.95146721 0.95146238\n",
      " 0.95146164 0.95156567 0.95156561 0.95156567 0.95156445 0.95156439\n",
      " 0.95135068 0.95135074        nan 0.95135037 0.95135257 0.95115818\n",
      " 0.95115827        nan 0.9511586  0.95115708 0.95147155 0.95147152\n",
      " 0.95147546 0.9514713  0.95147014 0.95161002 0.95161014 0.95161008\n",
      " 0.95161035 0.95160996 0.95135294 0.95135288        nan 0.95135309\n",
      " 0.95135474 0.95117823 0.95117813        nan 0.95117688 0.95117749\n",
      " 0.95146693 0.95146672 0.95146813 0.95146702 0.95146886 0.95162863\n",
      " 0.95162869 0.95162866 0.95162875 0.95162814 0.95135404 0.95135422\n",
      "        nan 0.95135438 0.95135609 0.95118275 0.95118247        nan\n",
      " 0.95118287 0.95118272 0.95146632 0.95146629 0.95146635 0.95146657\n",
      " 0.95146608 0.95163328 0.95163315 0.95163312 0.9516334  0.95163285\n",
      " 0.95135291 0.95135297        nan 0.95135456 0.95135578 0.95118397\n",
      " 0.95118394        nan 0.951184   0.95118581 0.9514625  0.9514625\n",
      " 0.95146281 0.95146467 0.95146641 0.95163251 0.95163269 0.95163251\n",
      " 0.95163386 0.95163569 0.95135361 0.95135352        nan 0.95135175\n",
      " 0.95135697 0.95118465 0.95118458        nan 0.95118464 0.95118565\n",
      " 0.95146256 0.95146259 0.95146256 0.95146275 0.951468   0.95163288\n",
      " 0.95163269 0.9516326  0.95163379 0.95163658 0.95135374 0.95135374\n",
      "        nan 0.95135426 0.95135667 0.9511844  0.95118443        nan\n",
      " 0.9511851  0.95118666 0.95146275 0.95146272 0.95146293 0.95146269\n",
      " 0.95146767 0.95163269 0.95163273 0.95163251 0.95163413 0.95163651\n",
      " 0.95135334 0.95135334        nan 0.95135413 0.95135658 0.95118504\n",
      " 0.95118498        nan 0.95118507 0.95118639 0.95146308 0.95146305\n",
      " 0.95146293 0.95146284 0.95146904 0.95163306 0.951633   0.95163291\n",
      " 0.95163407 0.95163667 0.95135328 0.95135331        nan 0.95135401\n",
      " 0.95135639 0.95118538 0.95118544        nan 0.95118501 0.95118669\n",
      " 0.95146281 0.95146287 0.9514629  0.95146253 0.95146672 0.95163334\n",
      " 0.95163306 0.95163309 0.95163383 0.95163651 0.95135331 0.95135331\n",
      "        nan 0.95135309 0.9513571  0.95118541 0.95118544        nan\n",
      " 0.95118507 0.95118681 0.95146275 0.95146278 0.9514629  0.95146259\n",
      " 0.95146773 0.9516334  0.95163315 0.95163321 0.95163389 0.95163706\n",
      " 0.95135334 0.9513534         nan 0.95135288 0.95135664 0.95118541\n",
      " 0.9511855         nan 0.95118504 0.95118639 0.95146263 0.95146269\n",
      " 0.95146278 0.95146299 0.95146758 0.95163331 0.95163315 0.95163321\n",
      " 0.95163389 0.95163688 0.95135334 0.95135331        nan 0.95135319\n",
      " 0.95135627 0.95118541 0.95118553        nan 0.9511851  0.95118684\n",
      " 0.95146266 0.95146269 0.95146275 0.95146284 0.95146608 0.95163331\n",
      " 0.95163312 0.95163325 0.95163373 0.95163645 0.95135334 0.95135328\n",
      "        nan 0.95135447 0.95135667 0.95118547 0.95118553        nan\n",
      " 0.95118498 0.95118642 0.95146266 0.95146266 0.95146275 0.95146299\n",
      " 0.95146764 0.95163331 0.95163312 0.95163325 0.95163389 0.95163645\n",
      " 0.95135334 0.95135328        nan 0.95135444 0.95135679 0.95118547\n",
      " 0.95118553        nan 0.95118504 0.9511866  0.95146263 0.95146263\n",
      " 0.95146278 0.9514629  0.95146718 0.95163334 0.95163312 0.95163325\n",
      " 0.95163395 0.95163648 0.95135334 0.95135328        nan 0.95135447\n",
      " 0.95135667 0.95118547 0.95118553        nan 0.95118504 0.9511866\n",
      " 0.95146263 0.95146263 0.95146278 0.95146281 0.95146657 0.95163334\n",
      " 0.95163312 0.95163325 0.95163398 0.95163673]\n",
      "  warnings.warn(\n"
     ]
    },
    {
     "name": "stdout",
     "output_type": "stream",
     "text": [
      "Fitting 5 folds for each of 200 candidates, totalling 1000 fits\n",
      "Fitting 5 folds for each of 80 candidates, totalling 400 fits\n"
     ]
    },
    {
     "name": "stderr",
     "output_type": "stream",
     "text": [
      "C:\\Users\\marta\\anaconda3\\lib\\site-packages\\sklearn\\model_selection\\_search.py:918: UserWarning: One or more of the test scores are non-finite: [0.9497718  0.94977177        nan 0.94977217 0.94977147 0.94974637\n",
      " 0.94974634        nan 0.94974506 0.94974631 0.94983015 0.94982933\n",
      " 0.94982502 0.94982994 0.9498304  0.94982156 0.94982144 0.94982111\n",
      " 0.94982153 0.94982141 0.95049102 0.95049102        nan 0.9504909\n",
      " 0.95049075 0.95035635 0.95035635        nan 0.95035647 0.95035644\n",
      " 0.95058449 0.95058446 0.95056697 0.95058327 0.95058446 0.95054919\n",
      " 0.95054912 0.95054922 0.95054919 0.95054937 0.9507226  0.95072266\n",
      "        nan 0.95072238 0.95072244 0.95045601 0.95045601        nan\n",
      " 0.95045543 0.95045546 0.95084418 0.95084409 0.95082294 0.95084373\n",
      " 0.9508436  0.95078388 0.95078382 0.95078406 0.95078437 0.95078425\n",
      " 0.95078118 0.95078118        nan 0.95078002 0.9507813  0.9504578\n",
      " 0.95045774        nan 0.95045786 0.95045731 0.95091973 0.95091973\n",
      " 0.95091203 0.9509197  0.95091939 0.95088424 0.95088421 0.95088427\n",
      " 0.95088461 0.95088354 0.95083216 0.95083225        nan 0.95083216\n",
      " 0.9508321  0.95052626 0.95052626        nan 0.95052599 0.9505255\n",
      " 0.95096588 0.9509657  0.95097025 0.95096619 0.95096551 0.95099788\n",
      " 0.95099791 0.95099797 0.95099761 0.95099752 0.95088042 0.95088048\n",
      "        nan 0.95088115 0.95088112 0.95061077 0.95061074        nan\n",
      " 0.95061096 0.95061071 0.95100375 0.95100384 0.95100577 0.95100412\n",
      " 0.9510035  0.95108456 0.95108453 0.95108514 0.95108429 0.95108423\n",
      " 0.95090716 0.95090725        nan 0.95090783 0.95090796 0.95067636\n",
      " 0.95067639        nan 0.95067664 0.95067615 0.95101943 0.95101943\n",
      " 0.95102126 0.95101909 0.95101866 0.95113573 0.9511357  0.95113564\n",
      " 0.95113567 0.95113539 0.95091587 0.95091547        nan 0.95091499\n",
      " 0.95091697 0.95069828 0.95069825        nan 0.95069825 0.95069782\n",
      " 0.95101802 0.95101821 0.95101927 0.95101836 0.95101937 0.95115493\n",
      " 0.9511549  0.95115471 0.95115526 0.95115557 0.95091245 0.95091233\n",
      "        nan 0.95091321 0.95091664 0.95070464 0.95070467        nan\n",
      " 0.95070506 0.95070543 0.95101698 0.95101698 0.95101695 0.95101646\n",
      " 0.95101992 0.95116468 0.95116452 0.95116513 0.95116471 0.95116431\n",
      " 0.95091205 0.95091202        nan 0.95091281 0.95091728 0.95071167\n",
      " 0.95071167        nan 0.9507105  0.95070876 0.95101628 0.95101628\n",
      " 0.95101558 0.95101732 0.95101772 0.95116782 0.95116779 0.95116749\n",
      " 0.95116642 0.95116721 0.95091138 0.95091135        nan 0.95091144\n",
      " 0.9509167  0.95071206 0.95071209        nan 0.95071154 0.95071072\n",
      " 0.9510157  0.9510157  0.95101576 0.95101701 0.95101827 0.95116999\n",
      " 0.95116999 0.95116984 0.95116822 0.95116892 0.95091214 0.95091199\n",
      "        nan 0.95091294 0.95091709 0.95071212 0.95071219        nan\n",
      " 0.95071185 0.95071075 0.95101607 0.95101625 0.9510157  0.95101683\n",
      " 0.95101827 0.95116975 0.95116978 0.9511699  0.95116883 0.95116972\n",
      " 0.9509123  0.95091245        nan 0.95091245 0.9509166  0.95071179\n",
      " 0.95071185        nan 0.95071191 0.95071115 0.95101573 0.9510157\n",
      " 0.95101564 0.95101686 0.95101885 0.95117073 0.95117061 0.951171\n",
      " 0.95116944 0.95116981 0.95091242 0.95091236        nan 0.9509123\n",
      " 0.950917   0.95071194 0.95071191        nan 0.95071185 0.95071112\n",
      " 0.95101548 0.95101545 0.95101542 0.95101692 0.95101863 0.9511707\n",
      " 0.95117067 0.95117079 0.9511696  0.95117003 0.95091223 0.95091233\n",
      "        nan 0.95091217 0.95091663 0.95071197 0.95071194        nan\n",
      " 0.95071185 0.95071185 0.9510157  0.95101555 0.95101539 0.95101695\n",
      " 0.95101875 0.95117058 0.95117048 0.95117073 0.95116957 0.95116981\n",
      " 0.95091223 0.95091226        nan 0.95091278 0.95091602 0.95071194\n",
      " 0.95071194        nan 0.95071179 0.95071173 0.95101573 0.95101558\n",
      " 0.95101533 0.95101698 0.95101943 0.95117051 0.95117045 0.95117082\n",
      " 0.95116966 0.95117006 0.95091223 0.95091223        nan 0.95091254\n",
      " 0.95091691 0.95071194 0.95071194        nan 0.950712   0.95071167\n",
      " 0.9510157  0.95101561 0.95101536 0.95101698 0.95101866 0.95117048\n",
      " 0.95117042 0.95117079 0.95116966 0.95116978 0.95091223 0.9509122\n",
      "        nan 0.95091214 0.95091667 0.95071197 0.95071197        nan\n",
      " 0.95071191 0.95071191 0.95101573 0.95101558 0.95101536 0.95101701\n",
      " 0.95101799 0.95117048 0.95117039 0.95117076 0.95116975 0.95116984\n",
      " 0.95091223 0.9509122         nan 0.95091229 0.95091694 0.950712\n",
      " 0.95071197        nan 0.95071197 0.95071176 0.9510157  0.95101558\n",
      " 0.95101536 0.95101695 0.95101888 0.95117042 0.95117036 0.95117073\n",
      " 0.95116963 0.95116987 0.95091223 0.9509122         nan 0.95091214\n",
      " 0.950917   0.950712   0.95071197        nan 0.950712   0.9507117\n",
      " 0.9510157  0.95101558 0.95101536 0.95101692 0.95101875 0.95117042\n",
      " 0.95117036 0.95117073 0.95116951 0.95116987]\n",
      "  warnings.warn(\n"
     ]
    },
    {
     "name": "stdout",
     "output_type": "stream",
     "text": [
      "Ensemble: Mean: 0.960720758414304 Std: 0.002306849328364128\n"
     ]
    }
   ],
   "source": [
    "kfold = KFold(n_splits=5, random_state=0, shuffle=True)\n",
    "cv_results = cross_val_score(voting_clf_, X_train, y_train, cv=kfold, scoring='roc_auc')"
   ]
  },
  {
   "cell_type": "code",
   "execution_count": null,
   "id": "6dcd8e2f",
   "metadata": {},
   "outputs": [],
   "source": [
    "print(\"Ensemble: Mean: {:>8} Std: {:>8}\".format(cv_results.mean(), cv_results.std()))"
   ]
  },
  {
   "cell_type": "markdown",
   "id": "fda940d6",
   "metadata": {},
   "source": [
    "**Output:** Ensemble: Mean: 0.960720758414304 Std: 0.002306849328364128"
   ]
  },
  {
   "cell_type": "markdown",
   "id": "4ab5af9d",
   "metadata": {},
   "source": [
    "Finally, let's train and save the ensemble model in a pickle file."
   ]
  },
  {
   "cell_type": "code",
   "execution_count": 7,
   "id": "4182aa57",
   "metadata": {
    "collapsed": true
   },
   "outputs": [
    {
     "name": "stdout",
     "output_type": "stream",
     "text": [
      "Fitting 5 folds for each of 200 candidates, totalling 1000 fits\n",
      "Fitting 5 folds for each of 80 candidates, totalling 400 fits\n"
     ]
    },
    {
     "name": "stderr",
     "output_type": "stream",
     "text": [
      "C:\\Users\\marta\\anaconda3\\lib\\site-packages\\joblib\\externals\\loky\\process_executor.py:688: UserWarning: A worker stopped while some jobs were given to the executor. This can be caused by a too short worker timeout or by a memory leak.\n",
      "  warnings.warn(\n",
      "C:\\Users\\marta\\anaconda3\\lib\\site-packages\\sklearn\\model_selection\\_search.py:918: UserWarning: One or more of the test scores are non-finite: [0.95063385 0.95063389        nan 0.95063395 0.95063383 0.95059184\n",
      " 0.95059176        nan 0.95059193 0.95059246 0.95069785 0.95069758\n",
      " 0.95069267 0.95069834 0.95069754 0.95068766 0.95068764 0.95068746\n",
      " 0.95068786 0.95068733 0.95114737 0.95114741        nan 0.95114799\n",
      " 0.95114745 0.95097755 0.95097766        nan 0.95097745 0.950978\n",
      " 0.95124417 0.95124415 0.95122451 0.95124444 0.9512439  0.95120071\n",
      " 0.95120075 0.95120071 0.95120028 0.95120049 0.95124578 0.95124609\n",
      "        nan 0.95124547 0.95124599 0.95095713 0.95095727        nan\n",
      " 0.95095719 0.9509568  0.95137069 0.95137088 0.95135527 0.95137067\n",
      " 0.95137082 0.951314   0.95131402 0.95131424 0.95131424 0.95131434\n",
      " 0.95127115 0.95127115        nan 0.95127162 0.95127133 0.95095143\n",
      " 0.95095135        nan 0.95095114 0.95095065 0.951405   0.95140498\n",
      " 0.95140268 0.95140496 0.95140473 0.9513902  0.95139024 0.95139028\n",
      " 0.95139061 0.95139026 0.95131346 0.95131363        nan 0.95131346\n",
      " 0.95131324 0.95102424 0.95102419        nan 0.95102409 0.95102409\n",
      " 0.95144725 0.95144723 0.95145169 0.95144743 0.95144707 0.95149664\n",
      " 0.95149686 0.95149713 0.95149646 0.95149599 0.9513577  0.95135772\n",
      "        nan 0.9513571  0.95135741 0.9511061  0.95110618        nan\n",
      " 0.95110552 0.95110606 0.95147356 0.95147352 0.95147657 0.95147316\n",
      " 0.95147258 0.95156927 0.95156927 0.95156931 0.95156962 0.95156997\n",
      " 0.95137355 0.95137349        nan 0.95137386 0.95137431 0.95115156\n",
      " 0.95115152        nan 0.95115193 0.95115148 0.95148643 0.9514866\n",
      " 0.95148856 0.95148586 0.9514865  0.95161717 0.95161715 0.95161719\n",
      " 0.95161662 0.95161582 0.95137885 0.95137885        nan 0.95137834\n",
      " 0.95137949 0.95117392 0.9511739         nan 0.95117366 0.95117392\n",
      " 0.95149214 0.95149214 0.95149347 0.95149167 0.95149087 0.95163182\n",
      " 0.95163176 0.95163162 0.95163182 0.95163213 0.95138121 0.9513811\n",
      "        nan 0.95138166 0.95138192 0.95117988 0.95117984        nan\n",
      " 0.95117941 0.95117955 0.95148991 0.95148995 0.95149071 0.95149147\n",
      " 0.95149202 0.95163704 0.95163671 0.95163687 0.95163738 0.95163745\n",
      " 0.9513811  0.95138119        nan 0.95138096 0.95138331 0.95118335\n",
      " 0.95118333        nan 0.95118237 0.95118159 0.95148979 0.95148981\n",
      " 0.95149001 0.95149067 0.95149145 0.95163751 0.95163753 0.95163757\n",
      " 0.95163882 0.95163929 0.95138119 0.95138129        nan 0.95138119\n",
      " 0.95138272 0.95118407 0.95118407        nan 0.95118358 0.95118364\n",
      " 0.95148967 0.95148965 0.95148954 0.95149044 0.95149157 0.95163798\n",
      " 0.95163798 0.9516381  0.9516391  0.95164025 0.95138137 0.95138143\n",
      "        nan 0.95138192 0.95138346 0.95118444 0.95118442        nan\n",
      " 0.95118411 0.95118382 0.95148877 0.95148877 0.95148899 0.9514896\n",
      " 0.95149167 0.95163816 0.95163814 0.95163835 0.95163959 0.95164045\n",
      " 0.95138149 0.95138139        nan 0.95138172 0.95138329 0.95118473\n",
      " 0.95118477        nan 0.95118436 0.95118374 0.95148891 0.95148889\n",
      " 0.95148883 0.95148981 0.9514919  0.95163831 0.95163837 0.95163826\n",
      " 0.95163982 0.95164021 0.95138145 0.95138098        nan 0.95138161\n",
      " 0.95138352 0.95118481 0.95118477        nan 0.95118425 0.95118383\n",
      " 0.95148881 0.95148883 0.95148897 0.95148995 0.95149171 0.95163812\n",
      " 0.9516381  0.95163826 0.9516399  0.95164043 0.95138151 0.95138112\n",
      "        nan 0.95138157 0.95138327 0.9511847  0.95118485        nan\n",
      " 0.95118432 0.95118389 0.95148887 0.95148885 0.95148897 0.95149001\n",
      " 0.95149165 0.95163806 0.95163804 0.95163816 0.95163976 0.95164053\n",
      " 0.95138155 0.95138118        nan 0.95138159 0.95138317 0.95118475\n",
      " 0.95118483        nan 0.95118438 0.95118376 0.95148885 0.95148887\n",
      " 0.95148899 0.95148989 0.95149181 0.95163794 0.95163792 0.95163816\n",
      " 0.9516397  0.95164053 0.95138153 0.95138116        nan 0.95138168\n",
      " 0.95138309 0.95118471 0.95118479        nan 0.95118436 0.95118376\n",
      " 0.95148881 0.95148883 0.95148895 0.95148989 0.95149171 0.9516379\n",
      " 0.95163792 0.95163814 0.95163978 0.95164058 0.95138155 0.95138116\n",
      "        nan 0.95138159 0.95138321 0.95118468 0.95118479        nan\n",
      " 0.95118432 0.95118391 0.95148881 0.95148885 0.95148895 0.95148999\n",
      " 0.95149181 0.95163792 0.95163794 0.95163816 0.95163974 0.95164051\n",
      " 0.95138159 0.95138116        nan 0.95138207 0.95138335 0.95118468\n",
      " 0.95118477        nan 0.95118442 0.95118401 0.95148881 0.95148885\n",
      " 0.95148895 0.95149001 0.95149192 0.95163792 0.95163792 0.95163816\n",
      " 0.95163976 0.95164049 0.95138159 0.95138118        nan 0.95138166\n",
      " 0.95138329 0.95118468 0.95118477        nan 0.95118444 0.9511838\n",
      " 0.95148883 0.95148885 0.95148897 0.95148989 0.95149163 0.95163792\n",
      " 0.95163792 0.95163816 0.95163965 0.95164051]\n",
      "  warnings.warn(\n"
     ]
    },
    {
     "ename": "NameError",
     "evalue": "name 'classification_report' is not defined",
     "output_type": "error",
     "traceback": [
      "\u001b[1;31m---------------------------------------------------------------------------\u001b[0m",
      "\u001b[1;31mNameError\u001b[0m                                 Traceback (most recent call last)",
      "\u001b[1;32m<ipython-input-7-36f271bebd1e>\u001b[0m in \u001b[0;36m<module>\u001b[1;34m\u001b[0m\n\u001b[0;32m      5\u001b[0m \u001b[1;33m\u001b[0m\u001b[0m\n\u001b[0;32m      6\u001b[0m \u001b[1;31m#Looking at the classification report\u001b[0m\u001b[1;33m\u001b[0m\u001b[1;33m\u001b[0m\u001b[1;33m\u001b[0m\u001b[0m\n\u001b[1;32m----> 7\u001b[1;33m \u001b[0mprint\u001b[0m\u001b[1;33m(\u001b[0m\u001b[0mclassification_report\u001b[0m\u001b[1;33m(\u001b[0m\u001b[0my_pred\u001b[0m\u001b[1;33m,\u001b[0m \u001b[0my_test\u001b[0m\u001b[1;33m)\u001b[0m\u001b[1;33m)\u001b[0m\u001b[1;33m\u001b[0m\u001b[1;33m\u001b[0m\u001b[0m\n\u001b[0m",
      "\u001b[1;31mNameError\u001b[0m: name 'classification_report' is not defined"
     ]
    }
   ],
   "source": [
    "voting_clf_trained = voting_clf_.fit(X_train, y_train)\n",
    "\n",
    "# predict test set\n",
    "# y_pred = voting_clf_.predict(X_test)\n",
    "\n",
    "with open('models/voting_clf.pickle', 'wb') as file:\n",
    "    pickle.dump(voting_clf_trained, file)"
   ]
  },
  {
   "cell_type": "markdown",
   "id": "e6dd093b",
   "metadata": {},
   "source": [
    "## 2.5. Model Comparison"
   ]
  },
  {
   "cell_type": "code",
   "execution_count": 15,
   "id": "7af6879b",
   "metadata": {},
   "outputs": [],
   "source": [
    "with open('models/hypertuned_xgbc.pickle', 'rb') as file:\n",
    "    hypertuned_xgb = pickle.load(file)\n",
    "with open('models/hypertuned_rf.pickle', 'rb') as file:\n",
    "    hypertuned_rf = pickle.load(file)\n",
    "with open('models/hypertuned_logreg.pickle', 'rb') as file:\n",
    "    hypertuned_logreg = pickle.load(file)\n",
    "with open('models/voting_clf.pickle', 'rb') as file:\n",
    "    voting_clf = pickle.load(file)\n",
    "    \n",
    "train_results = {}\n",
    "train_results['XGBoost'] = hypertuned_xgb.best_score_\n",
    "train_results['Random Forest'] = hypertuned_rf.best_score_\n",
    "train_results['Logistic Regression'] = hypertuned_logreg.best_score_\n",
    "train_results['Ensemble'] = cv_results.mean()"
   ]
  },
  {
   "cell_type": "code",
   "execution_count": 25,
   "id": "447f24b5",
   "metadata": {},
   "outputs": [
    {
     "data": {
      "text/html": [
       "<div>\n",
       "<style scoped>\n",
       "    .dataframe tbody tr th:only-of-type {\n",
       "        vertical-align: middle;\n",
       "    }\n",
       "\n",
       "    .dataframe tbody tr th {\n",
       "        vertical-align: top;\n",
       "    }\n",
       "\n",
       "    .dataframe thead th {\n",
       "        text-align: right;\n",
       "    }\n",
       "</style>\n",
       "<table border=\"1\" class=\"dataframe\">\n",
       "  <thead>\n",
       "    <tr style=\"text-align: right;\">\n",
       "      <th></th>\n",
       "      <th>Model Name</th>\n",
       "      <th>AUC Before Tuning</th>\n",
       "      <th>AUC After Tuning</th>\n",
       "    </tr>\n",
       "  </thead>\n",
       "  <tbody>\n",
       "    <tr>\n",
       "      <th>0</th>\n",
       "      <td>XGBoost</td>\n",
       "      <td>0.959365</td>\n",
       "      <td>0.961630</td>\n",
       "    </tr>\n",
       "    <tr>\n",
       "      <th>3</th>\n",
       "      <td>Ensemble</td>\n",
       "      <td>--</td>\n",
       "      <td>0.960721</td>\n",
       "    </tr>\n",
       "    <tr>\n",
       "      <th>1</th>\n",
       "      <td>Random Forest</td>\n",
       "      <td>0.956494</td>\n",
       "      <td>0.958965</td>\n",
       "    </tr>\n",
       "    <tr>\n",
       "      <th>2</th>\n",
       "      <td>Logistic Regression</td>\n",
       "      <td>0.951391</td>\n",
       "      <td>0.951641</td>\n",
       "    </tr>\n",
       "  </tbody>\n",
       "</table>\n",
       "</div>"
      ],
      "text/plain": [
       "            Model Name AUC Before Tuning  AUC After Tuning\n",
       "0              XGBoost          0.959365          0.961630\n",
       "3             Ensemble                --          0.960721\n",
       "1        Random Forest          0.956494          0.958965\n",
       "2  Logistic Regression          0.951391          0.951641"
      ]
     },
     "execution_count": 25,
     "metadata": {},
     "output_type": "execute_result"
    }
   ],
   "source": [
    "comparative_table = []\n",
    "for name in model_names:\n",
    "    if name not in basic_results.keys():\n",
    "        basic_results[name] = \"--\"\n",
    "    comparative_table.append([name, basic_results[name], train_results[name]])\n",
    "\n",
    "models_comparative = pd.DataFrame(comparative_table, columns=['Model Name', 'AUC Before Tuning', 'AUC After Tuning'])\n",
    "models_comparative.sort_values(by=['AUC After Tuning'], ascending=False)"
   ]
  },
  {
   "cell_type": "markdown",
   "id": "22cc55f4",
   "metadata": {},
   "source": [
    "We see that, in the end, the ensemble model didn't give us better results (at least not in training) than all the rest. In this case the XGBoost Classifier is the one with the best training results. That means that the Random Forest and the Logistic Regression vote don't help the classification. \n",
    "\n",
    "In short: the best result in training we could find is obtained using the XGBoost model after tuning it's best parameters, which are:\n",
    "    \n",
    "    eta = 0.05\n",
    "    max_depth = 5\n",
    "    min_child_weight = 8\n",
    "\n",
    "(they can be printed using `hypertuned_xgb.best_params_`)"
   ]
  },
  {
   "cell_type": "markdown",
   "id": "4559ef51",
   "metadata": {},
   "source": [
    "# 3. Model testing"
   ]
  },
  {
   "cell_type": "markdown",
   "id": "cd3f7e59",
   "metadata": {},
   "source": [
    "Once we have trained all of our models (these were Logistic Regression, XGBoost, Random Forest and a voting ensemble of the three), let's make a prediction with our test data to really see which one will be better in the end."
   ]
  },
  {
   "cell_type": "code",
   "execution_count": 28,
   "id": "ca9c577e",
   "metadata": {},
   "outputs": [],
   "source": [
    "# prediction vectors for both train and test\n",
    "y_pred_log_reg_train = hypertuned_logreg.predict(X_train)\n",
    "y_pred_log_reg_test = hypertuned_logreg.predict(X_test)\n",
    "\n",
    "y_pred_xgboost_train = hypertuned_xgb.predict(X_train)\n",
    "y_pred_xgboost_test = hypertuned_xgb.predict(X_test)\n",
    "\n",
    "y_pred_rf_train = hypertuned_rf.predict(X_train)\n",
    "y_pred_rf_test = hypertuned_rf.predict(X_test)\n",
    "\n",
    "y_pred_ensemble_train = voting_clf_.predict(X_train)\n",
    "y_pred_ensemble_test = voting_clf_.predict(X_test)\n",
    "\n",
    "train_predictions = {'Logistic Regression' : y_pred_log_reg_train,\n",
    "                     'XGBoost' : y_pred_xgboost_train,\n",
    "                     'Random Forest' : y_pred_rf_train,\n",
    "                     'Ensemble' : y_pred_ensemble_train}\n",
    "\n",
    "test_predictions = {'Logistic Regression' : y_pred_log_reg_test,\n",
    "                     'XGBoost' : y_pred_xgboost_test,\n",
    "                     'Random Forest' : y_pred_rf_test,\n",
    "                     'Ensemble' : y_pred_ensemble_test}"
   ]
  },
  {
   "cell_type": "markdown",
   "id": "e9bdacf5",
   "metadata": {},
   "source": [
    "Let's first try to use the `classification_report` function from `sklearn`. "
   ]
  },
  {
   "cell_type": "code",
   "execution_count": null,
   "id": "25a08b75",
   "metadata": {},
   "outputs": [],
   "source": []
  },
  {
   "cell_type": "code",
   "execution_count": 32,
   "id": "0620910f",
   "metadata": {},
   "outputs": [
    {
     "name": "stdout",
     "output_type": "stream",
     "text": [
      "The classification report for {name} is:\n",
      "              precision    recall  f1-score   support\n",
      "\n",
      "           0       0.95      0.91      0.93      4658\n",
      "           1       0.89      0.93      0.91      3392\n",
      "\n",
      "    accuracy                           0.92      8050\n",
      "   macro avg       0.92      0.92      0.92      8050\n",
      "weighted avg       0.92      0.92      0.92      8050\n",
      "\n",
      "The classification report for {name} is:\n",
      "              precision    recall  f1-score   support\n",
      "\n",
      "           0       0.95      0.91      0.93      4634\n",
      "           1       0.89      0.93      0.91      3416\n",
      "\n",
      "    accuracy                           0.92      8050\n",
      "   macro avg       0.92      0.92      0.92      8050\n",
      "weighted avg       0.92      0.92      0.92      8050\n",
      "\n",
      "The classification report for {name} is:\n",
      "              precision    recall  f1-score   support\n",
      "\n",
      "           0       0.94      0.92      0.93      4605\n",
      "           1       0.89      0.93      0.91      3445\n",
      "\n",
      "    accuracy                           0.92      8050\n",
      "   macro avg       0.92      0.92      0.92      8050\n",
      "weighted avg       0.92      0.92      0.92      8050\n",
      "\n",
      "The classification report for {name} is:\n",
      "              precision    recall  f1-score   support\n",
      "\n",
      "           0       0.95      0.91      0.93      4638\n",
      "           1       0.89      0.93      0.91      3412\n",
      "\n",
      "    accuracy                           0.92      8050\n",
      "   macro avg       0.92      0.92      0.92      8050\n",
      "weighted avg       0.92      0.92      0.92      8050\n",
      "\n"
     ]
    }
   ],
   "source": [
    "for model in model_names:\n",
    "    print(f\"The classification report for {name} is:\")\n",
    "    print(classification_report(test_predictions[model], y_test))"
   ]
  },
  {
   "cell_type": "markdown",
   "id": "3a8211cc",
   "metadata": {},
   "source": [
    "Strikingly, we get the exact same results for all of them. Let's see if we can see this metrics with a little bit more precision. "
   ]
  },
  {
   "cell_type": "code",
   "execution_count": 36,
   "id": "c02ea6db",
   "metadata": {},
   "outputs": [
    {
     "name": "stdout",
     "output_type": "stream",
     "text": [
      "The accuracy using XGBoost is 0.9222360248447204.\n",
      "The accuracy using Random Forest is 0.9214906832298136.\n",
      "The accuracy using Logistic Regression is 0.9198757763975155.\n",
      "The accuracy using Ensemble is 0.9219875776397516.\n"
     ]
    }
   ],
   "source": [
    "def accuracy(pred, test):\n",
    "    return sum([1 if pred[i] == test[idx] else 0 for i,idx in enumerate(test.index)])/len(test)\n",
    "\n",
    "for model in model_names:\n",
    "    print(f\"The accuracy using {model} is {accuracy(test_predictions[model], y_test)}.\")\n"
   ]
  },
  {
   "cell_type": "markdown",
   "id": "c826be21",
   "metadata": {},
   "source": [
    "Meaning the results are really similar, regardless of the model, when we use the prediction metric. The best one is still the XGBoost classifier."
   ]
  },
  {
   "cell_type": "markdown",
   "id": "4a6b1b4e",
   "metadata": {},
   "source": [
    "To wrap it all up, let's save the prediction results in a pickle file as well, so that we can just acces them, if ever we need to. "
   ]
  },
  {
   "cell_type": "code",
   "execution_count": 10,
   "id": "568cb827",
   "metadata": {},
   "outputs": [],
   "source": [
    "# saving train and test predictions\n",
    "with open('predictions/train_predictions.pickle', 'wb') as file:\n",
    "    pickle.dump(train_predictions, file)\n",
    "\n",
    "with open('predictions/test_predictions.pickle', 'wb') as file:\n",
    "    pickle.dump(test_predictions, file)\n"
   ]
  },
  {
   "cell_type": "markdown",
   "id": "955c04b2",
   "metadata": {},
   "source": [
    "# 4. Conclusions and Future Work"
   ]
  },
  {
   "cell_type": "markdown",
   "id": "58305eb3",
   "metadata": {},
   "source": [
    "This dataset gave really good results from the beggining, even before we tuned or models or used the ensemble model. Even then, it was still a really workable and flexible dataset that offered room for new variables to work with.\n",
    "\n",
    "I order to improve this classification, there are a couple things we could do. In terms of approach, we could try to create a model that would not only classify between dwarf and giants, but also specify further and determine the type of dwarf or the type of giant that the star is actually classified as. \n",
    "\n",
    "In terms of modeling, we could have tried our models with a different preprocessed data (for example with min-max normalization instead of 0 to 1). It would also be a good idea to find the best parameters for the `N-Neighbours Clasifier` and add it to the voting ensemble, although the results would probably be the same or insignicantly different. Lastly, we could have tried with a different type of ensemble; we tried with a *soft* voting system, meaning  that the final decision was made using the average score for all models. We could have tried a *hard* voting system to potencially get different results.\n",
    "\n",
    "As well, we could have tried more models, although that improvement offers a list of possibilities that would never end. \n",
    "\n",
    "In the end, this dataset was easy to work with and has been really helpful to learn more about classification models."
   ]
  },
  {
   "cell_type": "code",
   "execution_count": null,
   "id": "49ce59d9",
   "metadata": {},
   "outputs": [],
   "source": []
  }
 ],
 "metadata": {
  "kernelspec": {
   "display_name": "Python 3",
   "language": "python",
   "name": "python3"
  },
  "language_info": {
   "codemirror_mode": {
    "name": "ipython",
    "version": 3
   },
   "file_extension": ".py",
   "mimetype": "text/x-python",
   "name": "python",
   "nbconvert_exporter": "python",
   "pygments_lexer": "ipython3",
   "version": "3.8.8"
  }
 },
 "nbformat": 4,
 "nbformat_minor": 5
}
